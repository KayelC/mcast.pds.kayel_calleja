{
 "cells": [
  {
   "metadata": {},
   "cell_type": "markdown",
   "source": "# Error Handling",
   "id": "f82a32bca8c7389d"
  },
  {
   "metadata": {
    "ExecuteTime": {
     "end_time": "2025-05-22T07:50:33.869263Z",
     "start_time": "2025-05-22T07:50:33.863497Z"
    }
   },
   "cell_type": "code",
   "source": [
    "import urllib.request\n",
    "from datetime import datetime"
   ],
   "id": "f9dbf506fb71c247",
   "outputs": [],
   "execution_count": 1
  },
  {
   "metadata": {},
   "cell_type": "markdown",
   "source": "## Question 1",
   "id": "9b9b7c5af4729bc0"
  },
  {
   "metadata": {},
   "cell_type": "markdown",
   "source": "Write a function that asks the user for an integer input and prints it. Use try/except to catch a ValueError if the input is not an integer, printing an error message instead.",
   "id": "25ba3e993f11bd6d"
  },
  {
   "metadata": {},
   "cell_type": "code",
   "outputs": [],
   "execution_count": null,
   "source": [
    "def ask_integer():\n",
    "    try:\n",
    "        num = int(input(\"Enter an integer: \"))\n",
    "    except ValueError:\n",
    "        print(\"Error: That is not a valid integer.\")\n",
    "    else:\n",
    "        print(f\"You entered: {num}\")"
   ],
   "id": "9bff1d221e063872"
  },
  {
   "metadata": {},
   "cell_type": "markdown",
   "source": "## Question 2",
   "id": "dff28a54c421615e"
  },
  {
   "metadata": {},
   "cell_type": "markdown",
   "source": "Modify the previous function to also handle a KeyboardInterrupt exception, which occurs when the user cancels the input, printing a different error message.",
   "id": "98f9b520b4e835f8"
  },
  {
   "metadata": {},
   "cell_type": "code",
   "outputs": [],
   "execution_count": null,
   "source": [
    "def ask_integer_with_interrupt():\n",
    "    try:\n",
    "        num = int(input(\"Enter an integer: \"))\n",
    "    except ValueError:\n",
    "        print(\"Error: That is not a valid integer.\")\n",
    "    except KeyboardInterrupt:\n",
    "        print(\"\\nInput cancelled by user.\")\n",
    "    else:\n",
    "        print(f\"You entered: {num}\")\n",
    "    finally:\n",
    "        print(\"Input attempt completed.\")"
   ],
   "id": "f9c7982b561c9a90"
  },
  {
   "metadata": {},
   "cell_type": "markdown",
   "source": "## Question 3",
   "id": "bb8aa373a03217f5"
  },
  {
   "metadata": {},
   "cell_type": "markdown",
   "source": "Extend the function from question 1 to include else and finally blocks, where else prints a success message and finally always prints a completion message.",
   "id": "f9df92b6fbb6aaf"
  },
  {
   "metadata": {},
   "cell_type": "code",
   "outputs": [],
   "execution_count": null,
   "source": [
    "def ask_integer():\n",
    "    try:\n",
    "        num = int(input(\"Enter an integer: \"))\n",
    "    except ValueError:\n",
    "        print(\"Error: That is not a valid integer.\")\n",
    "    else:\n",
    "        print(f\"You entered: {num}\")\n",
    "        print(\"Success: Valid integer input received.\")\n",
    "    finally:\n",
    "        print(\"Input attempt completed.\")"
   ],
   "id": "4034c36185aede40"
  },
  {
   "metadata": {},
   "cell_type": "markdown",
   "source": "## Question 4",
   "id": "412b2a6e8448ffa0"
  },
  {
   "metadata": {},
   "cell_type": "markdown",
   "source": [
    "Write a function that raises an exception with the message Number is negative if a user enters a negative number. If the exception is raised, print it.\n",
    "\n"
   ],
   "id": "3aa5c8dff10e461a"
  },
  {
   "metadata": {},
   "cell_type": "code",
   "outputs": [],
   "execution_count": null,
   "source": [
    "def check_positive_number():\n",
    "    try:\n",
    "        num = int(input(\"Enter a number: \"))\n",
    "        if num < 0:\n",
    "            raise Exception(\"Number is negative\")\n",
    "        print(f\"Number is {num}\")\n",
    "    except Exception as e:\n",
    "        print(\"Exception:\", e)"
   ],
   "id": "59d038381860b1f5"
  },
  {
   "metadata": {},
   "cell_type": "markdown",
   "source": "## Question 5",
   "id": "ab9476efa8895e7c"
  },
  {
   "metadata": {},
   "cell_type": "markdown",
   "source": "Write a function that attempts to open a file provided by the user and print its contents. Use error handling to catch a FileNotFoundError and print a custom error message. Ensure the file is properly closed in a finally block if it was opened successfully.",
   "id": "1150920fbc0762d"
  },
  {
   "metadata": {},
   "cell_type": "code",
   "outputs": [],
   "execution_count": null,
   "source": [
    "def read_file():\n",
    "    filename = input(\"Enter filename to open: \")\n",
    "    f = None\n",
    "    try:\n",
    "        f = open(filename, 'r')\n",
    "        content = f.read()\n",
    "        print(content)\n",
    "    except FileNotFoundError:\n",
    "        print(f\"Error: File '{filename}' not found.\")\n",
    "    finally:\n",
    "        if f:\n",
    "            f.close()"
   ],
   "id": "e74ff3ddcff03698"
  },
  {
   "metadata": {},
   "cell_type": "markdown",
   "source": "## Question 6",
   "id": "7cdd059cb1b050fa"
  },
  {
   "metadata": {},
   "cell_type": "markdown",
   "source": "Given a list of mixed data types, write a function that prints each item if it's an integer. Use error handling to skip any item that raises a TypeError when cast to an integer.",
   "id": "aa6df4f2e62cd31f"
  },
  {
   "metadata": {},
   "cell_type": "code",
   "outputs": [],
   "execution_count": null,
   "source": [
    "def print_integers(items):\n",
    "    for item in items:\n",
    "        try:\n",
    "            # Try casting item to int and print if successful\n",
    "            print(int(item))\n",
    "        except (TypeError, ValueError):\n",
    "            continue"
   ],
   "id": "d7e143014a60e843"
  },
  {
   "metadata": {},
   "cell_type": "markdown",
   "source": "## Question 7",
   "id": "9363fb1f7218b28a"
  },
  {
   "metadata": {},
   "cell_type": "markdown",
   "source": "Write a function that takes a list of numbers and returns the sum. If the list contains a non-numeric type, catch the exception that would be raised by the sum function and return None instead.",
   "id": "7eaa67164d133b9"
  },
  {
   "metadata": {},
   "cell_type": "code",
   "outputs": [],
   "execution_count": null,
   "source": [
    "def safe_sum(numbers):\n",
    "    try:\n",
    "        return sum(numbers)\n",
    "    except TypeError:\n",
    "        return None"
   ],
   "id": "fad294227f441df4"
  },
  {
   "metadata": {},
   "cell_type": "markdown",
   "source": "## Question 8",
   "id": "f0e2a716ee4fb0d9"
  },
  {
   "metadata": {},
   "cell_type": "markdown",
   "source": "Write a function that divides two numbers provided by the user, handling division by zero and non-numeric input exceptions. It should return the division result or an appropriate error message.",
   "id": "cf7ae6607e4f159d"
  },
  {
   "metadata": {},
   "cell_type": "code",
   "outputs": [],
   "execution_count": null,
   "source": [
    "def safe_division():\n",
    "    try:\n",
    "        x = float(input(\"Enter numerator: \"))\n",
    "        y = float(input(\"Enter denominator: \"))\n",
    "        result = x / y\n",
    "    except ZeroDivisionError:\n",
    "        return \"Error: Cannot divide by zero.\"\n",
    "    except ValueError:\n",
    "        return \"Error: Invalid numeric input.\"\n",
    "    else:\n",
    "        return result"
   ],
   "id": "98c126495c615d6b"
  },
  {
   "metadata": {},
   "cell_type": "markdown",
   "source": "## Question 9",
   "id": "47c73645b61cfb51"
  },
  {
   "metadata": {},
   "cell_type": "markdown",
   "source": "Write a script that iterates over a list of URLs, attempting to fetch the content of each URL using urllib.request.urlopen. Use error handling to print a message for each URL that cannot be fetched, continuing with the next URL in the list.",
   "id": "d24ed1445cfdcbd2"
  },
  {
   "metadata": {},
   "cell_type": "code",
   "outputs": [],
   "execution_count": null,
   "source": [
    "def fetch_urls(url_list):\n",
    "    for url in url_list:\n",
    "        try:\n",
    "            with urllib.request.urlopen(url) as response:\n",
    "                content = response.read()\n",
    "                print(f\"Successfully fetched {url} (length {len(content)} bytes)\")\n",
    "        except Exception as e:\n",
    "            print(f\"Could not fetch {url}: {e}\")"
   ],
   "id": "ea981044d801ca43"
  },
  {
   "metadata": {},
   "cell_type": "markdown",
   "source": "## Question 10",
   "id": "f153a353dade9b3a"
  },
  {
   "metadata": {},
   "cell_type": "markdown",
   "source": "Write a function that takes a dictionary and a list of keys, attempting to print the value for each key. Use error handling to catch and print a message for any key that doesn't exist in the dictionary, without stopping the script.",
   "id": "b023cd3f84e12eb5"
  },
  {
   "metadata": {},
   "cell_type": "code",
   "outputs": [],
   "execution_count": null,
   "source": [
    "def print_dict_values(d, keys):\n",
    "    for key in keys:\n",
    "        try:\n",
    "            print(f\"{key}: {d[key]}\")\n",
    "        except KeyError:\n",
    "            print(f\"Key '{key}' not found in dictionary.\")"
   ],
   "id": "5e5ae5922aa6238f"
  },
  {
   "metadata": {},
   "cell_type": "markdown",
   "source": "## Question 11",
   "id": "9406625382dc7c76"
  },
  {
   "metadata": {},
   "cell_type": "markdown",
   "source": "Write a script that uses the datetime module to parse a list of date strings into datetime objects. Use error handling to catch and print an error message for any strings that are in an incorrect format, skipping over them.",
   "id": "6544c738cfcaa56"
  },
  {
   "metadata": {},
   "cell_type": "code",
   "outputs": [],
   "execution_count": null,
   "source": [
    "def parse_dates(date_strings, date_format=\"%Y-%m-%d\"):\n",
    "    parsed_dates = []\n",
    "    for date_str in date_strings:\n",
    "        try:\n",
    "            dt = datetime.strptime(date_str, date_format)\n",
    "            parsed_dates.append(dt)\n",
    "        except ValueError:\n",
    "            print(f\"Invalid date format for: {date_str}\")\n",
    "    return parsed_dates"
   ],
   "id": "c135b0a7d3d20c44"
  }
 ],
 "metadata": {
  "kernelspec": {
   "display_name": "Python 3",
   "language": "python",
   "name": "python3"
  },
  "language_info": {
   "codemirror_mode": {
    "name": "ipython",
    "version": 2
   },
   "file_extension": ".py",
   "mimetype": "text/x-python",
   "name": "python",
   "nbconvert_exporter": "python",
   "pygments_lexer": "ipython2",
   "version": "2.7.6"
  }
 },
 "nbformat": 4,
 "nbformat_minor": 5
}
