{
 "cells": [
  {
   "metadata": {},
   "cell_type": "markdown",
   "source": "# Functions",
   "id": "f282db9c1f5a5226"
  },
  {
   "metadata": {},
   "cell_type": "markdown",
   "source": "## Part 1",
   "id": "5194ee5a2b5359f9"
  },
  {
   "metadata": {},
   "cell_type": "markdown",
   "source": "### Question 1",
   "id": "b7de2b082e1c8f02"
  },
  {
   "metadata": {},
   "cell_type": "code",
   "source": [
    "def rectangle_area(length, width):\n",
    "    return length * width\n",
    "\n",
    "# Example usage:\n",
    "print(rectangle_area(5, 3))  # Output: 15"
   ],
   "id": "cecd1b85c38bb120",
   "outputs": [],
   "execution_count": null
  },
  {
   "metadata": {},
   "cell_type": "markdown",
   "source": "### Question 2",
   "id": "aac719d3ec13f136"
  },
  {
   "metadata": {},
   "cell_type": "code",
   "source": [
    "def max_of_three(a, b, c):\n",
    "    if a >= b and a >= c:\n",
    "        return a\n",
    "    elif b >= a and b >= c: ## study note elif = else if\n",
    "        return b\n",
    "    else:\n",
    "        return c\n",
    "\n",
    "# Example usage:\n",
    "print(max_of_three(10, 25, 15))  # Output: 25"
   ],
   "id": "f0e19907d21dea91",
   "outputs": [],
   "execution_count": null
  },
  {
   "metadata": {},
   "cell_type": "markdown",
   "source": "### Question 3",
   "id": "b2571119eb6bf1e7"
  },
  {
   "metadata": {},
   "cell_type": "code",
   "source": [
    "def is_prime(n):\n",
    "\n",
    "    if n <= 1:\n",
    "        return False\n",
    "    for i in range(2, int(n**0.5)+1):\n",
    "        if n % i == 0:\n",
    "            return False\n",
    "    return True\n",
    "\n",
    "# Example usage:\n",
    "print(is_prime(11))  # Output: True\n",
    "print(is_prime(12))  # Output: False\n"
   ],
   "id": "4bf1ae2452a0e182",
   "outputs": [],
   "execution_count": null
  },
  {
   "metadata": {},
   "cell_type": "markdown",
   "source": "### Question 4",
   "id": "8b6fd44a0c86c56d"
  },
  {
   "metadata": {},
   "cell_type": "code",
   "source": [
    "def reverse_string(s):\n",
    "\n",
    "    return s[::-1]\n",
    "    ## study note notation : s[start:stop:step] ,\n",
    "    # start -> omitted -> start at the end of the string ,\n",
    "    # stop -> omitted -> go all the way to the beginning,\n",
    "    # step = -1 -> move backward one character at a time\n",
    "\n",
    "# Example usage:\n",
    "print(reverse_string(\"kayel\"))  # Output: \"leyak\"\n"
   ],
   "id": "3c5901caaffabd74",
   "outputs": [],
   "execution_count": null
  },
  {
   "metadata": {},
   "cell_type": "markdown",
   "source": "## Part 2",
   "id": "26d70342f73e8771"
  },
  {
   "metadata": {},
   "cell_type": "markdown",
   "source": "### Question 5",
   "id": "24f8d1a3cd48959a"
  },
  {
   "metadata": {},
   "cell_type": "code",
   "source": [
    "def sum_list(numbers):\n",
    "\n",
    "    total = 0\n",
    "    for num in numbers:\n",
    "        total += num\n",
    "    return total\n",
    "\n",
    "# Example usage:\n",
    "print(sum_list([1, 2, 3, 4]))  # Output: 10\n",
    "print(sum_list([]))           # Output: 0\n"
   ],
   "id": "836b5eb6d79d5ec0",
   "outputs": [],
   "execution_count": null
  },
  {
   "metadata": {},
   "cell_type": "markdown",
   "source": "### Question 6",
   "id": "88000f9637e49952"
  },
  {
   "metadata": {},
   "cell_type": "code",
   "source": [
    "def print_dict(d):\n",
    "\n",
    "    for key in d:\n",
    "        print(f\"{key}:{d[key]}\") ## study note : Prints each key-value pair from the dictionary in the format 'key:value'.\n",
    "\n",
    "# Example usage:\n",
    "print_dict({\"name\": \"Alice\", \"age\": 30})\n",
    "# Output:\n",
    "# name:Alice\n",
    "# age:30"
   ],
   "id": "b80fcc4ede86bea7",
   "outputs": [],
   "execution_count": null
  },
  {
   "metadata": {},
   "cell_type": "markdown",
   "source": "### Question 7",
   "id": "487ba06c23b4d64e"
  },
  {
   "metadata": {},
   "cell_type": "code",
   "source": [
    "def count_case(s):\n",
    "    upper = 0\n",
    "    lower = 0\n",
    "    for char in s:\n",
    "        if char.isupper():\n",
    "            upper += 1\n",
    "        elif char.islower():\n",
    "            lower += 1\n",
    "    return (upper, lower)\n",
    "\n",
    "# Example usage:\n",
    "print(count_case(\"Hello World\"))  # Output: (2, 8)\n"
   ],
   "id": "80375154986f21f1",
   "outputs": [],
   "execution_count": null
  },
  {
   "metadata": {},
   "cell_type": "markdown",
   "source": "### Question 8",
   "id": "afcadd2dff50aec9"
  },
  {
   "metadata": {},
   "cell_type": "code",
   "source": [
    "def is_palindrome(word):\n",
    "\n",
    "    return word == word[::-1] ## logic from previous answer\n",
    "\n",
    "# Example usage:\n",
    "print(is_palindrome(\"radar\"))  # Output: True\n",
    "print(is_palindrome(\"apple\"))  # Output: False\n"
   ],
   "id": "c2eaa40656d341f2",
   "outputs": [],
   "execution_count": null
  },
  {
   "metadata": {},
   "cell_type": "markdown",
   "source": "## Part 3",
   "id": "e5fd2e02355b5542"
  },
  {
   "metadata": {},
   "cell_type": "markdown",
   "source": "### Question 9",
   "id": "c7b16bd546a45e61"
  },
  {
   "metadata": {},
   "cell_type": "code",
   "source": [
    "def remove_duplicates(numbers):\n",
    "\n",
    "    unique = []\n",
    "    for num in numbers:\n",
    "        if num not in unique:\n",
    "            unique.append(num)\n",
    "    return unique\n",
    "\n",
    "# Example usage:\n",
    "print(remove_duplicates([1, 2, 2, 3, 4, 1, 5]))  # Output: [1, 2, 3, 4, 5]"
   ],
   "id": "478f7d5e9fdcc882",
   "outputs": [],
   "execution_count": null
  },
  {
   "metadata": {},
   "cell_type": "markdown",
   "source": "### Question 10\n",
   "id": "cc89eae6893230"
  },
  {
   "metadata": {},
   "cell_type": "code",
   "source": [
    "def number_to_ordinal(n):\n",
    "    if not (1 <= n <= 20):\n",
    "        return \"Out of range\"\n",
    "\n",
    "    if n in [11, 12, 13]:\n",
    "        suffix = \"th\"\n",
    "    else:\n",
    "        last_digit = n % 10\n",
    "        if last_digit == 1:\n",
    "            suffix = \"st\"\n",
    "        elif last_digit == 2:\n",
    "            suffix = \"nd\"\n",
    "        elif last_digit == 3:\n",
    "            suffix = \"rd\"\n",
    "        else:\n",
    "            suffix = \"th\"\n",
    "\n",
    "    return f\"{n}{suffix}\"\n",
    "\n",
    "# Example usage:\n",
    "print(number_to_ordinal(1))   # Output: \"1st\"\n",
    "print(number_to_ordinal(12))  # Output: \"12th\"\n",
    "print(number_to_ordinal(21))  # Output: \"Out of range\"\n"
   ],
   "id": "d20e1c58db4321e0",
   "outputs": [],
   "execution_count": null
  },
  {
   "metadata": {},
   "cell_type": "markdown",
   "source": "### Question 11",
   "id": "8425ac08215a3ba"
  },
  {
   "metadata": {},
   "cell_type": "code",
   "source": [
    "def strings_to_length_dict(strings):\n",
    "\n",
    "    result = {}\n",
    "    for s in strings:\n",
    "        result[s] = len(s)\n",
    "    return result\n",
    "\n",
    "# Example usage:\n",
    "print(strings_to_length_dict([\"apple\", \"banana\", \"kiwi\"]))\n",
    "# Output: {'apple': 5, 'banana': 6, 'kiwi': 4}\n"
   ],
   "id": "e4d5bacf055c012c",
   "outputs": [],
   "execution_count": null
  },
  {
   "metadata": {},
   "cell_type": "markdown",
   "source": "## Lambda Function",
   "id": "56c444c73de28328"
  },
  {
   "metadata": {},
   "cell_type": "markdown",
   "source": "### Question 12",
   "id": "6b404c9a9a0dbda0"
  },
  {
   "metadata": {},
   "cell_type": "code",
   "source": [
    "# Original list of tuples\n",
    "tuples_list = [(2, 5), (1, 2), (4, 4), (2, 3), (2, 1)]\n",
    "\n",
    "# Sorting using lambda by the second item of each tuple\n",
    "sorted_list = sorted(tuples_list, key=lambda x: x[1])\n",
    "## Study Note : lambda x: x[1] means:\n",
    "# \"Given one input x (which is a tuple), return its second item x[1].\"\n",
    "\n",
    "print(sorted_list)\n",
    "# Output: [(2, 1), (1, 2), (2, 3), (4, 4), (2, 5)]\n"
   ],
   "id": "6b168adfefcb5fc6",
   "outputs": [],
   "execution_count": null
  },
  {
   "metadata": {},
   "cell_type": "markdown",
   "source": "### Question 13",
   "id": "57e0d8348f0c12d2"
  },
  {
   "metadata": {},
   "cell_type": "code",
   "source": [
    "# Original list of numbers\n",
    "numbers = [1, 2, 3, 4, 5, 6, 7, 8, 9, 10]\n",
    "\n",
    "# Using filter with a lambda to get even numbers\n",
    "even_numbers = list(filter(lambda x: x % 2 == 0, numbers))\n",
    "## Study note : lambda x: x % 2 == 0 means:\n",
    "# \"For each number x, return True if it's even, False otherwise.\"\n",
    "\n",
    "print(even_numbers)\n",
    "# Output: [2, 4, 6, 8, 10]"
   ],
   "id": "1781770ae2fcf1ba",
   "outputs": [],
   "execution_count": null
  }
 ],
 "metadata": {
  "kernelspec": {
   "display_name": "Python 3",
   "language": "python",
   "name": "python3"
  },
  "language_info": {
   "codemirror_mode": {
    "name": "ipython",
    "version": 2
   },
   "file_extension": ".py",
   "mimetype": "text/x-python",
   "name": "python",
   "nbconvert_exporter": "python",
   "pygments_lexer": "ipython2",
   "version": "2.7.6"
  }
 },
 "nbformat": 4,
 "nbformat_minor": 5
}
