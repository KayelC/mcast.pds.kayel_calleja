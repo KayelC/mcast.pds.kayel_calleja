{
 "cells": [
  {
   "metadata": {},
   "cell_type": "markdown",
   "source": "# Exercise Pandas DataFrames",
   "id": "607d4d934f32bb1e"
  },
  {
   "metadata": {
    "ExecuteTime": {
     "end_time": "2025-05-22T12:23:56.339091Z",
     "start_time": "2025-05-22T12:23:56.336113Z"
    }
   },
   "cell_type": "code",
   "source": "import pandas as pd",
   "id": "c5585acad9212337",
   "outputs": [],
   "execution_count": 16
  },
  {
   "metadata": {},
   "cell_type": "markdown",
   "source": "## Question 1",
   "id": "b7031db84008317c"
  },
  {
   "metadata": {},
   "cell_type": "markdown",
   "source": [
    "Create a pandas DataFrame from the following dictionary and assign it to a variable named students_df.\n",
    "\n",
    "Print the dataframe.\n",
    "\n",
    "data = {'Name': ['Alice', 'Bob', 'Charlie', 'Diana', 'Evan'],\n",
    "        'Age': [22, 23, 24, 22, 25],\n",
    "        'Major': ['Biology', 'Computer Science', 'Mathematics', 'Physics', 'Chemistry']}"
   ],
   "id": "783657c6ebf4a3d4"
  },
  {
   "metadata": {
    "ExecuteTime": {
     "end_time": "2025-05-22T12:23:56.359734Z",
     "start_time": "2025-05-22T12:23:56.355166Z"
    }
   },
   "cell_type": "code",
   "source": [
    "data = {\n",
    "    'Name': ['Alice', 'Bob', 'Charlie', 'Diana', 'Evan'],\n",
    "    'Age': [22, 23, 24, 22, 25],\n",
    "    'Major': ['Biology', 'Computer Science', 'Mathematics', 'Physics', 'Chemistry']\n",
    "}\n",
    "students_df = pd.DataFrame(data)\n",
    "print(students_df)"
   ],
   "id": "f9f7696ff19b86a8",
   "outputs": [
    {
     "name": "stdout",
     "output_type": "stream",
     "text": [
      "      Name  Age             Major\n",
      "0    Alice   22           Biology\n",
      "1      Bob   23  Computer Science\n",
      "2  Charlie   24       Mathematics\n",
      "3    Diana   22           Physics\n",
      "4     Evan   25         Chemistry\n"
     ]
    }
   ],
   "execution_count": 17
  },
  {
   "metadata": {},
   "cell_type": "markdown",
   "source": "## Question 2",
   "id": "428ddfa6ae6ddb19"
  },
  {
   "metadata": {},
   "cell_type": "markdown",
   "source": "Display the first 3 rows of students_df.",
   "id": "133281b0169dcefe"
  },
  {
   "metadata": {
    "ExecuteTime": {
     "end_time": "2025-05-22T12:23:56.390155Z",
     "start_time": "2025-05-22T12:23:56.385054Z"
    }
   },
   "cell_type": "code",
   "source": "students_df.head(3)",
   "id": "3eb264b6e33e05c8",
   "outputs": [
    {
     "data": {
      "text/plain": [
       "      Name  Age             Major\n",
       "0    Alice   22           Biology\n",
       "1      Bob   23  Computer Science\n",
       "2  Charlie   24       Mathematics"
      ],
      "text/html": [
       "<div>\n",
       "<style scoped>\n",
       "    .dataframe tbody tr th:only-of-type {\n",
       "        vertical-align: middle;\n",
       "    }\n",
       "\n",
       "    .dataframe tbody tr th {\n",
       "        vertical-align: top;\n",
       "    }\n",
       "\n",
       "    .dataframe thead th {\n",
       "        text-align: right;\n",
       "    }\n",
       "</style>\n",
       "<table border=\"1\" class=\"dataframe\">\n",
       "  <thead>\n",
       "    <tr style=\"text-align: right;\">\n",
       "      <th></th>\n",
       "      <th>Name</th>\n",
       "      <th>Age</th>\n",
       "      <th>Major</th>\n",
       "    </tr>\n",
       "  </thead>\n",
       "  <tbody>\n",
       "    <tr>\n",
       "      <th>0</th>\n",
       "      <td>Alice</td>\n",
       "      <td>22</td>\n",
       "      <td>Biology</td>\n",
       "    </tr>\n",
       "    <tr>\n",
       "      <th>1</th>\n",
       "      <td>Bob</td>\n",
       "      <td>23</td>\n",
       "      <td>Computer Science</td>\n",
       "    </tr>\n",
       "    <tr>\n",
       "      <th>2</th>\n",
       "      <td>Charlie</td>\n",
       "      <td>24</td>\n",
       "      <td>Mathematics</td>\n",
       "    </tr>\n",
       "  </tbody>\n",
       "</table>\n",
       "</div>"
      ]
     },
     "execution_count": 18,
     "metadata": {},
     "output_type": "execute_result"
    }
   ],
   "execution_count": 18
  },
  {
   "metadata": {},
   "cell_type": "markdown",
   "source": "## Question 3",
   "id": "e7ffa565c3d8397e"
  },
  {
   "metadata": {},
   "cell_type": "markdown",
   "source": "Select and print the Age and Major columns from students_df.",
   "id": "59a8877a42452257"
  },
  {
   "metadata": {
    "ExecuteTime": {
     "end_time": "2025-05-22T12:23:56.447850Z",
     "start_time": "2025-05-22T12:23:56.443606Z"
    }
   },
   "cell_type": "code",
   "source": "print(students_df[['Age', 'Major']])",
   "id": "5ab96d5fca01edae",
   "outputs": [
    {
     "name": "stdout",
     "output_type": "stream",
     "text": [
      "   Age             Major\n",
      "0   22           Biology\n",
      "1   23  Computer Science\n",
      "2   24       Mathematics\n",
      "3   22           Physics\n",
      "4   25         Chemistry\n"
     ]
    }
   ],
   "execution_count": 19
  },
  {
   "metadata": {},
   "cell_type": "markdown",
   "source": "## Question 4",
   "id": "5d60e6ec4d07b1b8"
  },
  {
   "metadata": {},
   "cell_type": "markdown",
   "source": "Add a new column to students_df named GradYear with values [2022, 2023, 2023, None, 2024]. Print the updated DataFrame.",
   "id": "4206a4bf40ba5921"
  },
  {
   "metadata": {
    "ExecuteTime": {
     "end_time": "2025-05-22T12:23:56.546944Z",
     "start_time": "2025-05-22T12:23:56.542893Z"
    }
   },
   "cell_type": "code",
   "source": [
    "students_df['GradYear'] = [2022, 2023, 2023, None, 2024]\n",
    "print(students_df)"
   ],
   "id": "d13345fa0354f2c7",
   "outputs": [
    {
     "name": "stdout",
     "output_type": "stream",
     "text": [
      "      Name  Age             Major  GradYear\n",
      "0    Alice   22           Biology    2022.0\n",
      "1      Bob   23  Computer Science    2023.0\n",
      "2  Charlie   24       Mathematics    2023.0\n",
      "3    Diana   22           Physics       NaN\n",
      "4     Evan   25         Chemistry    2024.0\n"
     ]
    }
   ],
   "execution_count": 20
  },
  {
   "metadata": {},
   "cell_type": "markdown",
   "source": "## Question 5",
   "id": "38f217f960e0750d"
  },
  {
   "metadata": {},
   "cell_type": "markdown",
   "source": "Filter students_df to a new DataFrame filtered_df to keep only students majoring in Computer Science or Physics. Print the filtered DataFrame.",
   "id": "b6489e193b201352"
  },
  {
   "metadata": {
    "ExecuteTime": {
     "end_time": "2025-05-22T12:23:56.588864Z",
     "start_time": "2025-05-22T12:23:56.584214Z"
    }
   },
   "cell_type": "code",
   "source": [
    "filtered_df = students_df[students_df['Major'].isin(['Computer Science', 'Physics'])]\n",
    "print(filtered_df)"
   ],
   "id": "9824eb2ad26bbc12",
   "outputs": [
    {
     "name": "stdout",
     "output_type": "stream",
     "text": [
      "    Name  Age             Major  GradYear\n",
      "1    Bob   23  Computer Science    2023.0\n",
      "3  Diana   22           Physics       NaN\n"
     ]
    }
   ],
   "execution_count": 21
  },
  {
   "metadata": {},
   "cell_type": "markdown",
   "source": "## Question 6",
   "id": "fc44de5d690a5c19"
  },
  {
   "metadata": {},
   "cell_type": "markdown",
   "source": "Select and print the second and fourth rows of students_df using their integer location.",
   "id": "b58d3efc8b0ea424"
  },
  {
   "metadata": {
    "ExecuteTime": {
     "end_time": "2025-05-22T12:23:56.665054Z",
     "start_time": "2025-05-22T12:23:56.660209Z"
    }
   },
   "cell_type": "code",
   "source": "print(students_df.iloc[[1, 3]])",
   "id": "93111d6325425f72",
   "outputs": [
    {
     "name": "stdout",
     "output_type": "stream",
     "text": [
      "    Name  Age             Major  GradYear\n",
      "1    Bob   23  Computer Science    2023.0\n",
      "3  Diana   22           Physics       NaN\n"
     ]
    }
   ],
   "execution_count": 22
  },
  {
   "metadata": {},
   "cell_type": "markdown",
   "source": "## Question 7",
   "id": "8ad6b83e617b6e2d"
  },
  {
   "metadata": {},
   "cell_type": "markdown",
   "source": "Delete the Age column from students_df and print the resulting DataFrame.",
   "id": "f0a903176bb34650"
  },
  {
   "metadata": {
    "ExecuteTime": {
     "end_time": "2025-05-22T12:23:56.728457Z",
     "start_time": "2025-05-22T12:23:56.723904Z"
    }
   },
   "cell_type": "code",
   "source": [
    "students_df = students_df.drop(columns=['Age'])\n",
    "print(students_df)"
   ],
   "id": "d0641e28098601b0",
   "outputs": [
    {
     "name": "stdout",
     "output_type": "stream",
     "text": [
      "      Name             Major  GradYear\n",
      "0    Alice           Biology    2022.0\n",
      "1      Bob  Computer Science    2023.0\n",
      "2  Charlie       Mathematics    2023.0\n",
      "3    Diana           Physics       NaN\n",
      "4     Evan         Chemistry    2024.0\n"
     ]
    }
   ],
   "execution_count": 23
  },
  {
   "metadata": {},
   "cell_type": "markdown",
   "source": "## Question 8",
   "id": "89f07c6a48b3e192"
  },
  {
   "metadata": {},
   "cell_type": "markdown",
   "source": "Fill all the missing values in GradYear with 2023 and print the DataFrame. Also, make sure the datatype for GradYear is int.",
   "id": "3403c8d47d1ef27c"
  },
  {
   "metadata": {
    "ExecuteTime": {
     "end_time": "2025-05-22T12:23:56.771161Z",
     "start_time": "2025-05-22T12:23:56.766451Z"
    }
   },
   "cell_type": "code",
   "source": [
    "students_df['GradYear'] = students_df['GradYear'].fillna(2023).astype(int)\n",
    "print(students_df)"
   ],
   "id": "53452bf8cf14e68c",
   "outputs": [
    {
     "name": "stdout",
     "output_type": "stream",
     "text": [
      "      Name             Major  GradYear\n",
      "0    Alice           Biology      2022\n",
      "1      Bob  Computer Science      2023\n",
      "2  Charlie       Mathematics      2023\n",
      "3    Diana           Physics      2023\n",
      "4     Evan         Chemistry      2024\n"
     ]
    }
   ],
   "execution_count": 24
  },
  {
   "metadata": {},
   "cell_type": "markdown",
   "source": "## Question 9",
   "id": "a507bed31d360f94"
  },
  {
   "metadata": {},
   "cell_type": "markdown",
   "source": "Group students_df by Major and calculate the average GradYear for each major. Print the results.",
   "id": "8dc1389d64834052"
  },
  {
   "metadata": {
    "ExecuteTime": {
     "end_time": "2025-05-22T12:23:56.810960Z",
     "start_time": "2025-05-22T12:23:56.807205Z"
    }
   },
   "cell_type": "code",
   "source": [
    "avg_gradyear = students_df.groupby('Major')['GradYear'].mean()\n",
    "print(avg_gradyear)"
   ],
   "id": "7b6cb2363825ac4c",
   "outputs": [
    {
     "name": "stdout",
     "output_type": "stream",
     "text": [
      "Major\n",
      "Biology             2022.0\n",
      "Chemistry           2024.0\n",
      "Computer Science    2023.0\n",
      "Mathematics         2023.0\n",
      "Physics             2023.0\n",
      "Name: GradYear, dtype: float64\n"
     ]
    }
   ],
   "execution_count": 25
  },
  {
   "metadata": {},
   "cell_type": "markdown",
   "source": "## Question 10",
   "id": "78de5c938277ce63"
  },
  {
   "metadata": {},
   "cell_type": "markdown",
   "source": "Create a new DataFrame sorted_df storing the sorted version of students_df by the GradYear in descending order. Print the first 3 records.",
   "id": "a4d0659b27587afb"
  },
  {
   "metadata": {
    "ExecuteTime": {
     "end_time": "2025-05-22T12:23:56.854230Z",
     "start_time": "2025-05-22T12:23:56.849206Z"
    }
   },
   "cell_type": "code",
   "source": [
    "sorted_df = students_df.sort_values(by='GradYear', ascending=False)\n",
    "print(sorted_df.head(3))"
   ],
   "id": "d1eb52f1acdc9819",
   "outputs": [
    {
     "name": "stdout",
     "output_type": "stream",
     "text": [
      "      Name             Major  GradYear\n",
      "4     Evan         Chemistry      2024\n",
      "2  Charlie       Mathematics      2023\n",
      "1      Bob  Computer Science      2023\n"
     ]
    }
   ],
   "execution_count": 26
  },
  {
   "metadata": {},
   "cell_type": "markdown",
   "source": "## Question 11",
   "id": "522c1afb7155b6eb"
  },
  {
   "metadata": {},
   "cell_type": "markdown",
   "source": "Filter students_df to find students who are majoring in Chemistry or whose GradYear is before 2023. Store them in a new DataFrame advanced_filter_df. Print the filtered DataFrame.",
   "id": "36d133c4d7661d74"
  },
  {
   "metadata": {
    "ExecuteTime": {
     "end_time": "2025-05-22T12:23:56.887249Z",
     "start_time": "2025-05-22T12:23:56.882761Z"
    }
   },
   "cell_type": "code",
   "source": [
    "advanced_filter_df = students_df[(students_df['Major'] == 'Chemistry') | (students_df['GradYear'] < 2023)]\n",
    "print(advanced_filter_df)"
   ],
   "id": "c53c71f61cccc65f",
   "outputs": [
    {
     "name": "stdout",
     "output_type": "stream",
     "text": [
      "    Name      Major  GradYear\n",
      "0  Alice    Biology      2022\n",
      "4   Evan  Chemistry      2024\n"
     ]
    }
   ],
   "execution_count": 27
  },
  {
   "metadata": {},
   "cell_type": "markdown",
   "source": "## Question 12",
   "id": "1104a567602c6ec1"
  },
  {
   "metadata": {},
   "cell_type": "markdown",
   "source": "Iterate over students_df rows and print the name of each student along with their major if their GradYear is 2023.",
   "id": "839839c0efa4ef4b"
  },
  {
   "metadata": {
    "ExecuteTime": {
     "end_time": "2025-05-22T12:23:56.919954Z",
     "start_time": "2025-05-22T12:23:56.915456Z"
    }
   },
   "cell_type": "code",
   "source": [
    "for _, row in students_df.iterrows():\n",
    "    if row['GradYear'] == 2023:\n",
    "        print(f\"{row['Name']} - {row['Major']}\")"
   ],
   "id": "18e3e89b8b6c5ef0",
   "outputs": [
    {
     "name": "stdout",
     "output_type": "stream",
     "text": [
      "Bob - Computer Science\n",
      "Charlie - Mathematics\n",
      "Diana - Physics\n"
     ]
    }
   ],
   "execution_count": 28
  }
 ],
 "metadata": {
  "kernelspec": {
   "display_name": "Python 3",
   "language": "python",
   "name": "python3"
  },
  "language_info": {
   "codemirror_mode": {
    "name": "ipython",
    "version": 2
   },
   "file_extension": ".py",
   "mimetype": "text/x-python",
   "name": "python",
   "nbconvert_exporter": "python",
   "pygments_lexer": "ipython2",
   "version": "2.7.6"
  }
 },
 "nbformat": 4,
 "nbformat_minor": 5
}
