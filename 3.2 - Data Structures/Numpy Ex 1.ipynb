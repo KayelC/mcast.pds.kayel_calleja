{
 "cells": [
  {
   "metadata": {},
   "cell_type": "markdown",
   "source": "# Exercise Numpy Arrays",
   "id": "a03cefc82223c11d"
  },
  {
   "metadata": {
    "ExecuteTime": {
     "end_time": "2025-05-22T12:19:19.339257Z",
     "start_time": "2025-05-22T12:19:17.805302Z"
    }
   },
   "cell_type": "code",
   "source": [
    "import numpy as np\n",
    "import random"
   ],
   "id": "b0b49ad95e53f9c0",
   "outputs": [],
   "execution_count": 2
  },
  {
   "metadata": {},
   "cell_type": "markdown",
   "source": "## Question 1",
   "id": "aa10974b76383c90"
  },
  {
   "metadata": {},
   "cell_type": "markdown",
   "source": "Create a function generate_temperature that accepts a min and max range, and then number of temperatures count that need to be created. This function must return a list with count temperatures.",
   "id": "e8d016dd5b157afb"
  },
  {
   "metadata": {
    "ExecuteTime": {
     "end_time": "2025-05-22T12:19:19.356280Z",
     "start_time": "2025-05-22T12:19:19.353343Z"
    }
   },
   "cell_type": "code",
   "source": [
    "def generate_temperature(min_temp, max_temp, count):\n",
    "    return [random.uniform(min_temp, max_temp) for _ in range(count)]"
   ],
   "id": "a7107076e132b89f",
   "outputs": [],
   "execution_count": 3
  },
  {
   "metadata": {},
   "cell_type": "markdown",
   "source": "## Question 2",
   "id": "4c6dbf9911710304"
  },
  {
   "metadata": {},
   "cell_type": "markdown",
   "source": "Create a numpy array temperature_data that has 7-day temperature readings for 5 cities. Limit the temperature to be between 15 and 35.",
   "id": "c5c0211359d2e0c"
  },
  {
   "metadata": {
    "ExecuteTime": {
     "end_time": "2025-05-22T12:19:30.848701Z",
     "start_time": "2025-05-22T12:19:19.366101Z"
    }
   },
   "cell_type": "code",
   "source": "temperature_data = np.random.uniform(15, 35, size=(5, 7)).round(2)",
   "id": "c449030843880db1",
   "outputs": [],
   "execution_count": 4
  },
  {
   "metadata": {},
   "cell_type": "markdown",
   "source": "## Question 3",
   "id": "c348ee95755043c2"
  },
  {
   "metadata": {},
   "cell_type": "markdown",
   "source": "Print the shape of temperature_data to ensure its (5,7).",
   "id": "2423cc4ae4890cc1"
  },
  {
   "metadata": {
    "ExecuteTime": {
     "end_time": "2025-05-22T12:19:30.872204Z",
     "start_time": "2025-05-22T12:19:30.868944Z"
    }
   },
   "cell_type": "code",
   "source": "print(\"3. Shape of temperature_data:\", temperature_data.shape)",
   "id": "a33f66ac2514ed2",
   "outputs": [
    {
     "name": "stdout",
     "output_type": "stream",
     "text": [
      "3. Shape of temperature_data: (5, 7)\n"
     ]
    }
   ],
   "execution_count": 5
  },
  {
   "metadata": {},
   "cell_type": "markdown",
   "source": "## Question 4",
   "id": "67ad86ab386334d7"
  },
  {
   "metadata": {},
   "cell_type": "markdown",
   "source": "Display the overall average_temperature.",
   "id": "82ad77f74417f6f"
  },
  {
   "metadata": {
    "ExecuteTime": {
     "end_time": "2025-05-22T12:19:30.955969Z",
     "start_time": "2025-05-22T12:19:30.951832Z"
    }
   },
   "cell_type": "code",
   "source": [
    "average_temperature = temperature_data.mean()\n",
    "print(\"4. Overall average temperature:\", round(average_temperature, 2), \"°C\")"
   ],
   "id": "db7a4507a9fcb3e8",
   "outputs": [
    {
     "name": "stdout",
     "output_type": "stream",
     "text": [
      "4. Overall average temperature: 25.89 °C\n"
     ]
    }
   ],
   "execution_count": 6
  },
  {
   "metadata": {},
   "cell_type": "markdown",
   "source": "## Question 5",
   "id": "521ade874dee47c0"
  },
  {
   "metadata": {},
   "cell_type": "markdown",
   "source": "Display the average temperature per city.",
   "id": "47bec46348e64665"
  },
  {
   "metadata": {
    "ExecuteTime": {
     "end_time": "2025-05-22T12:19:31.035624Z",
     "start_time": "2025-05-22T12:19:31.031473Z"
    }
   },
   "cell_type": "code",
   "source": [
    "avg_per_city = temperature_data.mean(axis=1)\n",
    "print(\"5. Average temperature per city (°C):\", avg_per_city.round(2))"
   ],
   "id": "7fd3b041114a641b",
   "outputs": [
    {
     "name": "stdout",
     "output_type": "stream",
     "text": [
      "5. Average temperature per city (°C): [24.96 25.5  27.54 27.16 24.28]\n"
     ]
    }
   ],
   "execution_count": 7
  },
  {
   "metadata": {},
   "cell_type": "markdown",
   "source": "## Question 6",
   "id": "91a75fed3020a45"
  },
  {
   "metadata": {},
   "cell_type": "markdown",
   "source": "Extract the temperature data for the first 3 days of City B, and print them.",
   "id": "bf612a5b35dabfc8"
  },
  {
   "metadata": {
    "ExecuteTime": {
     "end_time": "2025-05-22T12:19:31.095222Z",
     "start_time": "2025-05-22T12:19:31.091188Z"
    }
   },
   "cell_type": "code",
   "source": [
    "city_b_first3 = temperature_data[1, 0:3]\n",
    "print(\"6. City B, first 3 days:\", city_b_first3)"
   ],
   "id": "7507b94cba5af867",
   "outputs": [
    {
     "name": "stdout",
     "output_type": "stream",
     "text": [
      "6. City B, first 3 days: [23.12 27.58 33.77]\n"
     ]
    }
   ],
   "execution_count": 8
  },
  {
   "metadata": {},
   "cell_type": "markdown",
   "source": "## Question 7",
   "id": "406767cada15571a"
  },
  {
   "metadata": {},
   "cell_type": "markdown",
   "source": "Create a new numpy array temperature_f that has all the values covnerted to fahrenheit. Display the overall average temperature in F.",
   "id": "2dc8323eaa3701b7"
  },
  {
   "metadata": {
    "ExecuteTime": {
     "end_time": "2025-05-22T12:19:31.155548Z",
     "start_time": "2025-05-22T12:19:31.151551Z"
    }
   },
   "cell_type": "code",
   "source": [
    "temperature_f = (temperature_data * 9/5) + 32\n",
    "print(\"7. Overall average temperature in Fahrenheit:\", round(temperature_f.mean(), 2), \"°F\")"
   ],
   "id": "9d055782e8450559",
   "outputs": [
    {
     "name": "stdout",
     "output_type": "stream",
     "text": [
      "7. Overall average temperature in Fahrenheit: 78.6 °F\n"
     ]
    }
   ],
   "execution_count": 9
  },
  {
   "metadata": {},
   "cell_type": "markdown",
   "source": "## Question 8",
   "id": "39de4bf23fb932d9"
  },
  {
   "metadata": {},
   "cell_type": "markdown",
   "source": "Find the day with the highest temperature for City D. Display the day number, and the relative temperature.",
   "id": "17dd9a3a8363676b"
  },
  {
   "metadata": {
    "ExecuteTime": {
     "end_time": "2025-05-22T12:19:31.186488Z",
     "start_time": "2025-05-22T12:19:31.182911Z"
    }
   },
   "cell_type": "code",
   "source": [
    "city_d = temperature_data[3]\n",
    "day_index = np.argmax(city_d)\n",
    "max_temp = city_d[day_index]\n",
    "print(f\"8. City D's highest temperature is on Day {day_index + 1}: {max_temp} °C\")"
   ],
   "id": "a7bf6048212666fe",
   "outputs": [
    {
     "name": "stdout",
     "output_type": "stream",
     "text": [
      "8. City D's highest temperature is on Day 1: 34.72 °C\n"
     ]
    }
   ],
   "execution_count": 10
  },
  {
   "metadata": {},
   "cell_type": "markdown",
   "source": "## Question 9",
   "id": "5d374ea437fbed08"
  },
  {
   "metadata": {},
   "cell_type": "markdown",
   "source": "Create a new numpy array all_temps with a 1D array of all temperatures.",
   "id": "59745744cc0056a9"
  },
  {
   "metadata": {
    "ExecuteTime": {
     "end_time": "2025-05-22T12:19:31.222049Z",
     "start_time": "2025-05-22T12:19:31.218587Z"
    }
   },
   "cell_type": "code",
   "source": [
    "all_temps = temperature_data.flatten()\n",
    "print(\"9. 1D array of all temperatures:\", all_temps)"
   ],
   "id": "8e1c2c4ad6cc8f5e",
   "outputs": [
    {
     "name": "stdout",
     "output_type": "stream",
     "text": [
      "9. 1D array of all temperatures: [20.33 32.06 22.37 32.09 21.8  16.6  29.49 23.12 27.58 33.77 28.92 17.09\n",
      " 32.03 16.02 26.99 26.02 32.22 21.66 28.53 33.75 23.58 34.72 22.28 29.06\n",
      " 29.16 22.37 32.79 19.75 18.75 28.56 26.72 25.64 22.3  19.57 28.43]\n"
     ]
    }
   ],
   "execution_count": 11
  },
  {
   "metadata": {},
   "cell_type": "markdown",
   "source": "## Question 10",
   "id": "aa902dbafb06717c"
  },
  {
   "metadata": {},
   "cell_type": "markdown",
   "source": "For each city, calculate the temperature difference between the highest and the lowest temperatures. Then, display the highest fluctuation.",
   "id": "3153c0e73eb8cf7d"
  },
  {
   "metadata": {
    "ExecuteTime": {
     "end_time": "2025-05-22T12:19:31.267830Z",
     "start_time": "2025-05-22T12:19:31.264048Z"
    }
   },
   "cell_type": "code",
   "source": [
    "fluctuations = temperature_data.max(axis=1) - temperature_data.min(axis=1)\n",
    "print(\"10. Temperature fluctuations per city:\", fluctuations.round(2))\n",
    "print(\"    Highest fluctuation:\", round(fluctuations.max(), 2), \"°C\")"
   ],
   "id": "d9861e70996b4664",
   "outputs": [
    {
     "name": "stdout",
     "output_type": "stream",
     "text": [
      "10. Temperature fluctuations per city: [15.49 17.75 12.09 14.97  9.81]\n",
      "    Highest fluctuation: 17.75 °C\n"
     ]
    }
   ],
   "execution_count": 12
  },
  {
   "metadata": {},
   "cell_type": "markdown",
   "source": "## Question 11",
   "id": "6575c1c91c467571"
  },
  {
   "metadata": {},
   "cell_type": "markdown",
   "source": "Generate a numpy array weights that has 7 values evenly spread out from 0 to 1. Then multiply these weights with the temperatures.",
   "id": "7b278fbbba3e24bc"
  },
  {
   "metadata": {
    "ExecuteTime": {
     "end_time": "2025-05-22T12:19:31.306515Z",
     "start_time": "2025-05-22T12:19:31.291661Z"
    }
   },
   "cell_type": "code",
   "source": [
    "weights = np.linspace(0, 1, 7)\n",
    "weighted_temps = temperature_data * weights\n",
    "print(\"11. Weighted temperatures (with weights 0 to 1):\")\n",
    "print(weighted_temps.round(2))"
   ],
   "id": "366c8f253f19bff9",
   "outputs": [
    {
     "name": "stdout",
     "output_type": "stream",
     "text": [
      "11. Weighted temperatures (with weights 0 to 1):\n",
      "[[ 0.    5.34  7.46 16.05 14.53 13.83 29.49]\n",
      " [ 0.    4.6  11.26 14.46 11.39 26.69 16.02]\n",
      " [ 0.    4.34 10.74 10.83 19.02 28.12 23.58]\n",
      " [ 0.    3.71  9.69 14.58 14.91 27.32 19.75]\n",
      " [ 0.    4.76  8.91 12.82 14.87 16.31 28.43]]\n"
     ]
    }
   ],
   "execution_count": 13
  },
  {
   "metadata": {},
   "cell_type": "markdown",
   "source": "## Question 12",
   "id": "745f1e544a5705dc"
  },
  {
   "metadata": {},
   "cell_type": "markdown",
   "source": "Given a heat index of [1.1, 1.2, 1.1, 1.3, 1.2, 1.1, 1.2], display the total heat index for each city.",
   "id": "f0b9bc9ac95b6ddd"
  },
  {
   "metadata": {
    "ExecuteTime": {
     "end_time": "2025-05-22T12:19:31.347178Z",
     "start_time": "2025-05-22T12:19:31.343498Z"
    }
   },
   "cell_type": "code",
   "source": [
    "heat_index = np.array([1.1, 1.2, 1.1, 1.3, 1.2, 1.1, 1.2])\n",
    "total_heat_index = (temperature_data * heat_index).sum(axis=1)\n",
    "print(\"12. Total heat index per city:\", total_heat_index.round(2))"
   ],
   "id": "b255de9b2ba73ce7",
   "outputs": [
    {
     "name": "stdout",
     "output_type": "stream",
     "text": [
      "12. Total heat index per city: [206.97 208.24 224.17 221.42 200.02]\n"
     ]
    }
   ],
   "execution_count": 14
  }
 ],
 "metadata": {
  "kernelspec": {
   "display_name": "Python 3",
   "language": "python",
   "name": "python3"
  },
  "language_info": {
   "codemirror_mode": {
    "name": "ipython",
    "version": 2
   },
   "file_extension": ".py",
   "mimetype": "text/x-python",
   "name": "python",
   "nbconvert_exporter": "python",
   "pygments_lexer": "ipython2",
   "version": "2.7.6"
  }
 },
 "nbformat": 4,
 "nbformat_minor": 5
}
