{
 "cells": [
  {
   "metadata": {},
   "cell_type": "markdown",
   "source": "# Data Cleaning Exercise 2",
   "id": "9f7812fd69c8453f"
  },
  {
   "metadata": {},
   "cell_type": "markdown",
   "source": "## Question 1",
   "id": "f4160b3e80fcc387"
  },
  {
   "metadata": {},
   "cell_type": "markdown",
   "source": "Import the module myutils",
   "id": "bd5769782c147fed"
  },
  {
   "metadata": {
    "ExecuteTime": {
     "end_time": "2025-05-22T14:26:59.265401Z",
     "start_time": "2025-05-22T14:26:59.263036Z"
    }
   },
   "cell_type": "code",
   "source": "import myutils",
   "id": "e5a08b20dd247d22",
   "outputs": [],
   "execution_count": 10
  },
  {
   "metadata": {
    "ExecuteTime": {
     "end_time": "2025-05-22T14:26:59.727961Z",
     "start_time": "2025-05-22T14:26:59.277677Z"
    }
   },
   "cell_type": "code",
   "source": "users = myutils.get_users()",
   "id": "97b14fc3c756a3eb",
   "outputs": [],
   "execution_count": 11
  },
  {
   "metadata": {},
   "cell_type": "markdown",
   "source": "users = myutils.get_users()## Question 2",
   "id": "77a5b441a99b7eda"
  },
  {
   "metadata": {},
   "cell_type": "markdown",
   "source": "Create a list with age, weight, gender and bloodGroup.",
   "id": "c4e8ff85f158cd3b"
  },
  {
   "metadata": {
    "ExecuteTime": {
     "end_time": "2025-05-22T14:26:59.740478Z",
     "start_time": "2025-05-22T14:26:59.738171Z"
    }
   },
   "cell_type": "code",
   "source": "fields = ['age', 'weight', 'gender', 'bloodGroup']",
   "id": "32824e52d46f9658",
   "outputs": [],
   "execution_count": 12
  },
  {
   "metadata": {},
   "cell_type": "markdown",
   "source": "## Question 3",
   "id": "b9274aa01a8f67cc"
  },
  {
   "metadata": {},
   "cell_type": "markdown",
   "source": "Create an empty dictionary named stats.",
   "id": "7e39edb271866f03"
  },
  {
   "metadata": {
    "ExecuteTime": {
     "end_time": "2025-05-22T14:26:59.764889Z",
     "start_time": "2025-05-22T14:26:59.762621Z"
    }
   },
   "cell_type": "code",
   "source": "stats = {}",
   "id": "fe21b2215f517662",
   "outputs": [],
   "execution_count": 13
  },
  {
   "metadata": {
    "ExecuteTime": {
     "end_time": "2025-05-22T14:26:59.777600Z",
     "start_time": "2025-05-22T14:26:59.774821Z"
    }
   },
   "cell_type": "code",
   "source": [
    "for field in fields:\n",
    "    if type(users[0][field])==str:\n",
    "        stats[field] = myutils.get_string_stats(users, field)\n",
    "    else:\n",
    "        stats[field] = myutils.get_numeric_stats(users,field)"
   ],
   "id": "30cf0598687a9bac",
   "outputs": [],
   "execution_count": 14
  },
  {
   "metadata": {},
   "cell_type": "markdown",
   "source": "## Question 4",
   "id": "836f9a77f4559b89"
  },
  {
   "metadata": {},
   "cell_type": "markdown",
   "source": "Iterate through the fields if the field type from users is string store the result of get_string_stats into stats[field], otherwise call get_numeric_stats.",
   "id": "333a33b9104b00ea"
  },
  {
   "metadata": {
    "ExecuteTime": {
     "end_time": "2025-05-22T14:26:59.796418Z",
     "start_time": "2025-05-22T14:26:59.793195Z"
    }
   },
   "cell_type": "code",
   "source": "myutils.get_string_stats(users,'gender')",
   "id": "72a74db21f8b3f81",
   "outputs": [
    {
     "data": {
      "text/plain": [
       "{'female': 17, 'male': 13}"
      ]
     },
     "execution_count": 15,
     "metadata": {},
     "output_type": "execute_result"
    }
   ],
   "execution_count": 15
  },
  {
   "metadata": {},
   "cell_type": "markdown",
   "source": "## Question 5",
   "id": "ec7b8691751824aa"
  },
  {
   "metadata": {},
   "cell_type": "markdown",
   "source": "print stats",
   "id": "786aa2fa53cf5327"
  },
  {
   "metadata": {
    "ExecuteTime": {
     "end_time": "2025-05-22T14:26:59.836103Z",
     "start_time": "2025-05-22T14:26:59.832330Z"
    }
   },
   "cell_type": "code",
   "source": "stats",
   "id": "d0839738c99deea9",
   "outputs": [
    {
     "data": {
      "text/plain": [
       "{'age': {'total': 977, 'count': 30, 'average': 32.56666666666667},\n",
       " 'weight': {'total': 2121.91, 'count': 30, 'average': 70.73033333333333},\n",
       " 'gender': {'female': 17, 'male': 13},\n",
       " 'bloodGroup': {'O-': 6,\n",
       "  'B+': 5,\n",
       "  'AB+': 4,\n",
       "  'AB-': 7,\n",
       "  'A-': 2,\n",
       "  'B-': 2,\n",
       "  'A+': 1,\n",
       "  'O+': 3}}"
      ]
     },
     "execution_count": 16,
     "metadata": {},
     "output_type": "execute_result"
    }
   ],
   "execution_count": 16
  }
 ],
 "metadata": {
  "kernelspec": {
   "display_name": "Python 3",
   "language": "python",
   "name": "python3"
  },
  "language_info": {
   "codemirror_mode": {
    "name": "ipython",
    "version": 2
   },
   "file_extension": ".py",
   "mimetype": "text/x-python",
   "name": "python",
   "nbconvert_exporter": "python",
   "pygments_lexer": "ipython2",
   "version": "2.7.6"
  }
 },
 "nbformat": 4,
 "nbformat_minor": 5
}
