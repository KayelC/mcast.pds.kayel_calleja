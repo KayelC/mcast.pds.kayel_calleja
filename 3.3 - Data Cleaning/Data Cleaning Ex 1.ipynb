{
 "cells": [
  {
   "metadata": {},
   "cell_type": "markdown",
   "source": "# Data Cleaning Exercise 1",
   "id": "e4e7b32094fae8b3"
  },
  {
   "metadata": {
    "ExecuteTime": {
     "end_time": "2025-05-22T14:01:14.504204Z",
     "start_time": "2025-05-22T14:01:14.500152Z"
    }
   },
   "cell_type": "code",
   "source": [
    "import pandas as pd\n",
    "import numpy as np"
   ],
   "id": "888015b0a9450d7a",
   "outputs": [],
   "execution_count": 15
  },
  {
   "metadata": {},
   "cell_type": "markdown",
   "source": "# Question 1",
   "id": "77f9908fb6948101"
  },
  {
   "metadata": {},
   "cell_type": "markdown",
   "source": "Load the two datasets sales_data.csv and sales_data_extra.csv to two separate dataframes.",
   "id": "719f8f4cca4a7f1"
  },
  {
   "metadata": {
    "ExecuteTime": {
     "end_time": "2025-05-22T14:01:14.544916Z",
     "start_time": "2025-05-22T14:01:14.534930Z"
    }
   },
   "cell_type": "code",
   "source": [
    "df_sales = pd.read_csv('sales_data.csv')\n",
    "df_sales_extra = pd.read_csv('sales_data_extra.csv')"
   ],
   "id": "f0371e65e3dcce4a",
   "outputs": [],
   "execution_count": 16
  },
  {
   "metadata": {},
   "cell_type": "markdown",
   "source": "# Question 2",
   "id": "d3a21e517f2d0ff4"
  },
  {
   "metadata": {},
   "cell_type": "markdown",
   "source": "Combine the two datasets into a dataframe sales.",
   "id": "40125e8787ca399a"
  },
  {
   "metadata": {
    "ExecuteTime": {
     "end_time": "2025-05-22T14:01:14.583451Z",
     "start_time": "2025-05-22T14:01:14.579962Z"
    }
   },
   "cell_type": "code",
   "source": "sales = pd.concat([df_sales, df_sales_extra])",
   "id": "cccde3ca7400ebda",
   "outputs": [],
   "execution_count": 17
  },
  {
   "metadata": {},
   "cell_type": "markdown",
   "source": "# Question 3`",
   "id": "a4b0d47e0b68a5fd"
  },
  {
   "metadata": {},
   "cell_type": "markdown",
   "source": [
    "Data Exploration - Show the following:\n",
    "\n",
    "first 6 records of the data\n",
    "data types of data frame\n",
    "and general statistics"
   ],
   "id": "f29668727166615e"
  },
  {
   "metadata": {
    "ExecuteTime": {
     "end_time": "2025-05-22T14:01:14.630342Z",
     "start_time": "2025-05-22T14:01:14.618609Z"
    }
   },
   "cell_type": "code",
   "source": [
    "print(sales.head())\n",
    "print(sales.dtypes)\n",
    "print(sales.describe())"
   ],
   "id": "dd4a9d362ed10eec",
   "outputs": [
    {
     "name": "stdout",
     "output_type": "stream",
     "text": [
      "         Date  Sales  CustomerID    Product  Quantity\n",
      "0  2021-01-13  362.0          11  Product D         3\n",
      "1  2021-01-16  147.0           5  Product A         5\n",
      "2  2021-01-22  227.0           4  Product C         8\n",
      "3  2021-01-01  231.0           9  Product B         5\n",
      "4  2021-01-04  456.0          15  Product C         5\n",
      "Date           object\n",
      "Sales         float64\n",
      "CustomerID      int64\n",
      "Product        object\n",
      "Quantity        int64\n",
      "dtype: object\n",
      "             Sales  CustomerID    Quantity\n",
      "count    97.000000  105.000000  105.000000\n",
      "mean    430.175258   10.104762    5.133333\n",
      "std     667.758627    5.347400    2.410181\n",
      "min     100.000000    1.000000    1.000000\n",
      "25%     195.000000    5.000000    3.000000\n",
      "50%     297.000000   10.000000    5.000000\n",
      "75%     417.000000   15.000000    7.000000\n",
      "max    4520.000000   19.000000    9.000000\n"
     ]
    }
   ],
   "execution_count": 18
  },
  {
   "metadata": {},
   "cell_type": "markdown",
   "source": "# Question 4",
   "id": "3f62c0fede4c5f8f"
  },
  {
   "metadata": {},
   "cell_type": "markdown",
   "source": "Show how many nulls are there in each column.",
   "id": "d02a6379804d8a39"
  },
  {
   "metadata": {
    "ExecuteTime": {
     "end_time": "2025-05-22T14:01:14.683834Z",
     "start_time": "2025-05-22T14:01:14.679152Z"
    }
   },
   "cell_type": "code",
   "source": "print(sales.isnull().sum())",
   "id": "25954839fffec07d",
   "outputs": [
    {
     "name": "stdout",
     "output_type": "stream",
     "text": [
      "Date          0\n",
      "Sales         8\n",
      "CustomerID    0\n",
      "Product       0\n",
      "Quantity      0\n",
      "dtype: int64\n"
     ]
    }
   ],
   "execution_count": 19
  },
  {
   "metadata": {},
   "cell_type": "markdown",
   "source": "# Question 5",
   "id": "14c7180bd549e67b"
  },
  {
   "metadata": {},
   "cell_type": "markdown",
   "source": "For each column that has missing values fill it in with the median. Print the null count again to ensure they have been filled in.",
   "id": "3dbce0d23e843bbd"
  },
  {
   "metadata": {
    "ExecuteTime": {
     "end_time": "2025-05-22T14:01:14.746640Z",
     "start_time": "2025-05-22T14:01:14.740761Z"
    }
   },
   "cell_type": "code",
   "source": [
    "sales.fillna({\"Sales\": sales[\"Sales\"].median()}, inplace=True)\n",
    "print(sales.isnull().sum())"
   ],
   "id": "f7e47c7023575886",
   "outputs": [
    {
     "name": "stdout",
     "output_type": "stream",
     "text": [
      "Date          0\n",
      "Sales         0\n",
      "CustomerID    0\n",
      "Product       0\n",
      "Quantity      0\n",
      "dtype: int64\n"
     ]
    }
   ],
   "execution_count": 20
  },
  {
   "metadata": {},
   "cell_type": "markdown",
   "source": "# Question 6",
   "id": "e59ac78279119b72"
  },
  {
   "metadata": {},
   "cell_type": "markdown",
   "source": "The column Date right now has a type of Object. Make sure to convert it to datetime. Also ensure Sales column is float. Print the types again to ensure they've changed.",
   "id": "57bdf7f01162f9bb"
  },
  {
   "metadata": {
    "ExecuteTime": {
     "end_time": "2025-05-22T14:01:14.805103Z",
     "start_time": "2025-05-22T14:01:14.798277Z"
    }
   },
   "cell_type": "code",
   "source": [
    "sales[\"Date\"] = pd.to_datetime(sales[\"Date\"])\n",
    "sales[\"Sales\"] = sales[\"Sales\"].astype(float)\n",
    "print(sales.dtypes)"
   ],
   "id": "7f5084b87b1dd70c",
   "outputs": [
    {
     "name": "stdout",
     "output_type": "stream",
     "text": [
      "Date          datetime64[ns]\n",
      "Sales                float64\n",
      "CustomerID             int64\n",
      "Product               object\n",
      "Quantity               int64\n",
      "dtype: object\n"
     ]
    }
   ],
   "execution_count": 21
  },
  {
   "metadata": {},
   "cell_type": "markdown",
   "source": "# Question 7",
   "id": "11313c995c9f862e"
  },
  {
   "metadata": {},
   "cell_type": "markdown",
   "source": "Show how many duplicate records there are (if any). If there are remove them.",
   "id": "3bc07ad3e32d9e0e"
  },
  {
   "metadata": {
    "ExecuteTime": {
     "end_time": "2025-05-22T14:01:14.856864Z",
     "start_time": "2025-05-22T14:01:14.850496Z"
    }
   },
   "cell_type": "code",
   "source": [
    "print(sales.duplicated().sum())\n",
    "sales.drop_duplicates(inplace=True)"
   ],
   "id": "404a2173990adf39",
   "outputs": [
    {
     "name": "stdout",
     "output_type": "stream",
     "text": [
      "5\n"
     ]
    }
   ],
   "execution_count": 22
  },
  {
   "metadata": {},
   "cell_type": "markdown",
   "source": "# Question 8",
   "id": "2803be38bf4764c1"
  },
  {
   "metadata": {},
   "cell_type": "markdown",
   "source": "Rename the columns so that they are all lowercase.",
   "id": "1c8749294521c064"
  },
  {
   "metadata": {
    "ExecuteTime": {
     "end_time": "2025-05-22T14:01:14.900574Z",
     "start_time": "2025-05-22T14:01:14.896687Z"
    }
   },
   "cell_type": "code",
   "source": "sales.columns = sales.columns.str.lower()",
   "id": "3f8f3e5ec74f126a",
   "outputs": [],
   "execution_count": 23
  },
  {
   "metadata": {},
   "cell_type": "markdown",
   "source": "# Question 9",
   "id": "ada135cbb69f5027"
  },
  {
   "metadata": {},
   "cell_type": "markdown",
   "source": "Calculate the 25% quantile Q1 and the 75% quantile Q3 on sales. Find out the IQR (inter quartile range) by subracting Q1 from Q3. Only keep records that are between the range of Q1-1.5*IQR and Q3+1.5*IQR.",
   "id": "487626fe4dce4513"
  },
  {
   "metadata": {
    "ExecuteTime": {
     "end_time": "2025-05-22T14:01:14.970868Z",
     "start_time": "2025-05-22T14:01:14.964458Z"
    }
   },
   "cell_type": "code",
   "source": [
    "Q1 = sales[\"sales\"].quantile(0.25)\n",
    "Q3 = sales[\"sales\"].quantile(0.75)\n",
    "IQR = Q3 - Q1\n",
    "sales = sales[(sales[\"sales\"] >= (Q1-1.5*IQR)) | (sales[\"sales\"] <= (Q3+1.5*IQR))]"
   ],
   "id": "293a4608b691a0f",
   "outputs": [],
   "execution_count": 24
  },
  {
   "metadata": {},
   "cell_type": "markdown",
   "source": "# Question 10",
   "id": "eb92e6973ebc3a4d"
  },
  {
   "metadata": {},
   "cell_type": "markdown",
   "source": "Ensure that one-hot encoding is applied to categorical columns.",
   "id": "9fbeb87a8d29ebb1"
  },
  {
   "metadata": {
    "ExecuteTime": {
     "end_time": "2025-05-22T14:01:15.045969Z",
     "start_time": "2025-05-22T14:01:15.024362Z"
    }
   },
   "cell_type": "code",
   "source": [
    "sales = pd.get_dummies(sales, columns=[\"customerid\", \"product\"])\n",
    "sales.head()"
   ],
   "id": "741e7d9e9dbecabc",
   "outputs": [
    {
     "data": {
      "text/plain": [
       "        date  sales  quantity  customerid_1  customerid_2  customerid_3  \\\n",
       "0 2021-01-13  362.0         3         False         False         False   \n",
       "1 2021-01-16  147.0         5         False         False         False   \n",
       "2 2021-01-22  227.0         8         False         False         False   \n",
       "3 2021-01-01  231.0         5         False         False         False   \n",
       "4 2021-01-04  456.0         5         False         False         False   \n",
       "\n",
       "   customerid_4  customerid_5  customerid_6  customerid_7  ...  customerid_14  \\\n",
       "0         False         False         False         False  ...          False   \n",
       "1         False          True         False         False  ...          False   \n",
       "2          True         False         False         False  ...          False   \n",
       "3         False         False         False         False  ...          False   \n",
       "4         False         False         False         False  ...          False   \n",
       "\n",
       "   customerid_15  customerid_16  customerid_17  customerid_18  customerid_19  \\\n",
       "0          False          False          False          False          False   \n",
       "1          False          False          False          False          False   \n",
       "2          False          False          False          False          False   \n",
       "3          False          False          False          False          False   \n",
       "4           True          False          False          False          False   \n",
       "\n",
       "   product_Product A  product_Product B  product_Product C  product_Product D  \n",
       "0              False              False              False               True  \n",
       "1               True              False              False              False  \n",
       "2              False              False               True              False  \n",
       "3              False               True              False              False  \n",
       "4              False              False               True              False  \n",
       "\n",
       "[5 rows x 26 columns]"
      ],
      "text/html": [
       "<div>\n",
       "<style scoped>\n",
       "    .dataframe tbody tr th:only-of-type {\n",
       "        vertical-align: middle;\n",
       "    }\n",
       "\n",
       "    .dataframe tbody tr th {\n",
       "        vertical-align: top;\n",
       "    }\n",
       "\n",
       "    .dataframe thead th {\n",
       "        text-align: right;\n",
       "    }\n",
       "</style>\n",
       "<table border=\"1\" class=\"dataframe\">\n",
       "  <thead>\n",
       "    <tr style=\"text-align: right;\">\n",
       "      <th></th>\n",
       "      <th>date</th>\n",
       "      <th>sales</th>\n",
       "      <th>quantity</th>\n",
       "      <th>customerid_1</th>\n",
       "      <th>customerid_2</th>\n",
       "      <th>customerid_3</th>\n",
       "      <th>customerid_4</th>\n",
       "      <th>customerid_5</th>\n",
       "      <th>customerid_6</th>\n",
       "      <th>customerid_7</th>\n",
       "      <th>...</th>\n",
       "      <th>customerid_14</th>\n",
       "      <th>customerid_15</th>\n",
       "      <th>customerid_16</th>\n",
       "      <th>customerid_17</th>\n",
       "      <th>customerid_18</th>\n",
       "      <th>customerid_19</th>\n",
       "      <th>product_Product A</th>\n",
       "      <th>product_Product B</th>\n",
       "      <th>product_Product C</th>\n",
       "      <th>product_Product D</th>\n",
       "    </tr>\n",
       "  </thead>\n",
       "  <tbody>\n",
       "    <tr>\n",
       "      <th>0</th>\n",
       "      <td>2021-01-13</td>\n",
       "      <td>362.0</td>\n",
       "      <td>3</td>\n",
       "      <td>False</td>\n",
       "      <td>False</td>\n",
       "      <td>False</td>\n",
       "      <td>False</td>\n",
       "      <td>False</td>\n",
       "      <td>False</td>\n",
       "      <td>False</td>\n",
       "      <td>...</td>\n",
       "      <td>False</td>\n",
       "      <td>False</td>\n",
       "      <td>False</td>\n",
       "      <td>False</td>\n",
       "      <td>False</td>\n",
       "      <td>False</td>\n",
       "      <td>False</td>\n",
       "      <td>False</td>\n",
       "      <td>False</td>\n",
       "      <td>True</td>\n",
       "    </tr>\n",
       "    <tr>\n",
       "      <th>1</th>\n",
       "      <td>2021-01-16</td>\n",
       "      <td>147.0</td>\n",
       "      <td>5</td>\n",
       "      <td>False</td>\n",
       "      <td>False</td>\n",
       "      <td>False</td>\n",
       "      <td>False</td>\n",
       "      <td>True</td>\n",
       "      <td>False</td>\n",
       "      <td>False</td>\n",
       "      <td>...</td>\n",
       "      <td>False</td>\n",
       "      <td>False</td>\n",
       "      <td>False</td>\n",
       "      <td>False</td>\n",
       "      <td>False</td>\n",
       "      <td>False</td>\n",
       "      <td>True</td>\n",
       "      <td>False</td>\n",
       "      <td>False</td>\n",
       "      <td>False</td>\n",
       "    </tr>\n",
       "    <tr>\n",
       "      <th>2</th>\n",
       "      <td>2021-01-22</td>\n",
       "      <td>227.0</td>\n",
       "      <td>8</td>\n",
       "      <td>False</td>\n",
       "      <td>False</td>\n",
       "      <td>False</td>\n",
       "      <td>True</td>\n",
       "      <td>False</td>\n",
       "      <td>False</td>\n",
       "      <td>False</td>\n",
       "      <td>...</td>\n",
       "      <td>False</td>\n",
       "      <td>False</td>\n",
       "      <td>False</td>\n",
       "      <td>False</td>\n",
       "      <td>False</td>\n",
       "      <td>False</td>\n",
       "      <td>False</td>\n",
       "      <td>False</td>\n",
       "      <td>True</td>\n",
       "      <td>False</td>\n",
       "    </tr>\n",
       "    <tr>\n",
       "      <th>3</th>\n",
       "      <td>2021-01-01</td>\n",
       "      <td>231.0</td>\n",
       "      <td>5</td>\n",
       "      <td>False</td>\n",
       "      <td>False</td>\n",
       "      <td>False</td>\n",
       "      <td>False</td>\n",
       "      <td>False</td>\n",
       "      <td>False</td>\n",
       "      <td>False</td>\n",
       "      <td>...</td>\n",
       "      <td>False</td>\n",
       "      <td>False</td>\n",
       "      <td>False</td>\n",
       "      <td>False</td>\n",
       "      <td>False</td>\n",
       "      <td>False</td>\n",
       "      <td>False</td>\n",
       "      <td>True</td>\n",
       "      <td>False</td>\n",
       "      <td>False</td>\n",
       "    </tr>\n",
       "    <tr>\n",
       "      <th>4</th>\n",
       "      <td>2021-01-04</td>\n",
       "      <td>456.0</td>\n",
       "      <td>5</td>\n",
       "      <td>False</td>\n",
       "      <td>False</td>\n",
       "      <td>False</td>\n",
       "      <td>False</td>\n",
       "      <td>False</td>\n",
       "      <td>False</td>\n",
       "      <td>False</td>\n",
       "      <td>...</td>\n",
       "      <td>False</td>\n",
       "      <td>True</td>\n",
       "      <td>False</td>\n",
       "      <td>False</td>\n",
       "      <td>False</td>\n",
       "      <td>False</td>\n",
       "      <td>False</td>\n",
       "      <td>False</td>\n",
       "      <td>True</td>\n",
       "      <td>False</td>\n",
       "    </tr>\n",
       "  </tbody>\n",
       "</table>\n",
       "<p>5 rows × 26 columns</p>\n",
       "</div>"
      ]
     },
     "execution_count": 25,
     "metadata": {},
     "output_type": "execute_result"
    }
   ],
   "execution_count": 25
  },
  {
   "metadata": {},
   "cell_type": "markdown",
   "source": "# Question 11",
   "id": "a0cdf1eff46a1d1f"
  },
  {
   "metadata": {},
   "cell_type": "markdown",
   "source": "Create two new columns, one storing the year and another the month (obtained from date).",
   "id": "13aae7c28a056a55"
  },
  {
   "metadata": {
    "ExecuteTime": {
     "end_time": "2025-05-22T14:01:15.142027Z",
     "start_time": "2025-05-22T14:01:15.137721Z"
    }
   },
   "cell_type": "code",
   "source": [
    "sales['year'] = sales['date'].dt.year\n",
    "sales['month'] = sales['date'].dt.month"
   ],
   "id": "244c3c7fa0d0da67",
   "outputs": [],
   "execution_count": 26
  },
  {
   "metadata": {},
   "cell_type": "markdown",
   "source": "# Question 12",
   "id": "73470c49ad985146"
  },
  {
   "metadata": {},
   "cell_type": "markdown",
   "source": "Normalise sales and quantity columns using MinMaxScaler from sklearn.preprocessing",
   "id": "91b167970cc4d967"
  },
  {
   "metadata": {
    "ExecuteTime": {
     "end_time": "2025-05-22T14:01:17.385353Z",
     "start_time": "2025-05-22T14:01:15.205006Z"
    }
   },
   "cell_type": "code",
   "source": [
    "from sklearn.preprocessing import MinMaxScaler\n",
    "scaler = MinMaxScaler()\n",
    "sales[['sales', 'quantity']] = scaler.fit_transform(sales[[\"sales\", \"quantity\"]])"
   ],
   "id": "7597d16057a5a3c6",
   "outputs": [],
   "execution_count": 27
  },
  {
   "metadata": {},
   "cell_type": "markdown",
   "source": "# Question 13`",
   "id": "21f19c084d5c80bc"
  },
  {
   "metadata": {},
   "cell_type": "markdown",
   "source": "Save the modified data to sales_cleaned.csv.",
   "id": "f97ca70489cb2373"
  },
  {
   "metadata": {
    "ExecuteTime": {
     "end_time": "2025-05-22T14:01:17.430043Z",
     "start_time": "2025-05-22T14:01:17.416097Z"
    }
   },
   "cell_type": "code",
   "source": "sales.to_csv('sales_cleaned.csv', index=False)",
   "id": "bfcb40512594ac49",
   "outputs": [],
   "execution_count": 28
  }
 ],
 "metadata": {
  "kernelspec": {
   "display_name": "Python 3",
   "language": "python",
   "name": "python3"
  },
  "language_info": {
   "codemirror_mode": {
    "name": "ipython",
    "version": 2
   },
   "file_extension": ".py",
   "mimetype": "text/x-python",
   "name": "python",
   "nbconvert_exporter": "python",
   "pygments_lexer": "ipython2",
   "version": "2.7.6"
  }
 },
 "nbformat": 4,
 "nbformat_minor": 5
}
