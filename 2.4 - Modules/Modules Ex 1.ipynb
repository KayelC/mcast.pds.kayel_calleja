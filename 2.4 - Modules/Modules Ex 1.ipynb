{
 "cells": [
  {
   "metadata": {},
   "cell_type": "markdown",
   "source": "# Modules Exercise 1",
   "id": "dbb5979e2bbfb8"
  },
  {
   "metadata": {},
   "cell_type": "markdown",
   "source": "## Question 1 – Date and Time Difference",
   "id": "a48c7b859a02100f"
  },
  {
   "metadata": {
    "ExecuteTime": {
     "end_time": "2025-05-19T12:21:58.023025Z",
     "start_time": "2025-05-19T12:21:58.019719Z"
    }
   },
   "cell_type": "code",
   "source": [
    "from datetime import datetime\n",
    "\n",
    "def date_diff(date1, date2):\n",
    "    d1 = datetime.strptime(date1, \"%Y-%m-%d\")\n",
    "    d2 = datetime.strptime(date2, \"%Y-%m-%d\")\n",
    "    return abs((d2 - d1).days)"
   ],
   "id": "1d276695effbd92d",
   "outputs": [],
   "execution_count": 20
  },
  {
   "metadata": {
    "ExecuteTime": {
     "end_time": "2025-05-19T12:21:58.043142Z",
     "start_time": "2025-05-19T12:21:58.040360Z"
    }
   },
   "cell_type": "code",
   "source": "print(date_diff(\"2025-05-01\", \"2025-05-19\"))  # Output: 18",
   "id": "b8b97a488a8f61c7",
   "outputs": [
    {
     "name": "stdout",
     "output_type": "stream",
     "text": [
      "18\n"
     ]
    }
   ],
   "execution_count": 21
  },
  {
   "metadata": {},
   "cell_type": "markdown",
   "source": "## Question 2 – Fetch Web Page Content",
   "id": "e14755b5d2e146ac"
  },
  {
   "metadata": {
    "ExecuteTime": {
     "end_time": "2025-05-19T12:21:58.056678Z",
     "start_time": "2025-05-19T12:21:58.054447Z"
    }
   },
   "cell_type": "code",
   "source": [
    "import urllib.request\n",
    "\n",
    "def fetch_html(url):\n",
    "    with urllib.request.urlopen(url) as response:\n",
    "        return response.read().decode('utf-8')"
   ],
   "id": "676ae6697ad300cc",
   "outputs": [],
   "execution_count": 22
  },
  {
   "metadata": {
    "ExecuteTime": {
     "end_time": "2025-05-19T12:21:58.469844Z",
     "start_time": "2025-05-19T12:21:58.070622Z"
    }
   },
   "cell_type": "code",
   "source": "print(fetch_html(\"http://example.com\"))  # Output: First 200 characters of example.com",
   "id": "a31774b4960cadbe",
   "outputs": [
    {
     "name": "stdout",
     "output_type": "stream",
     "text": [
      "<!doctype html>\n",
      "<html>\n",
      "<head>\n",
      "    <title>Example Domain</title>\n",
      "\n",
      "    <meta charset=\"utf-8\" />\n",
      "    <meta http-equiv=\"Content-type\" content=\"text/html; charset=utf-8\" />\n",
      "    <meta name=\"viewport\" content=\"width=device-width, initial-scale=1\" />\n",
      "    <style type=\"text/css\">\n",
      "    body {\n",
      "        background-color: #f0f0f2;\n",
      "        margin: 0;\n",
      "        padding: 0;\n",
      "        font-family: -apple-system, system-ui, BlinkMacSystemFont, \"Segoe UI\", \"Open Sans\", \"Helvetica Neue\", Helvetica, Arial, sans-serif;\n",
      "        \n",
      "    }\n",
      "    div {\n",
      "        width: 600px;\n",
      "        margin: 5em auto;\n",
      "        padding: 2em;\n",
      "        background-color: #fdfdff;\n",
      "        border-radius: 0.5em;\n",
      "        box-shadow: 2px 3px 7px 2px rgba(0,0,0,0.02);\n",
      "    }\n",
      "    a:link, a:visited {\n",
      "        color: #38488f;\n",
      "        text-decoration: none;\n",
      "    }\n",
      "    @media (max-width: 700px) {\n",
      "        div {\n",
      "            margin: 0 auto;\n",
      "            width: auto;\n",
      "        }\n",
      "    }\n",
      "    </style>    \n",
      "</head>\n",
      "\n",
      "<body>\n",
      "<div>\n",
      "    <h1>Example Domain</h1>\n",
      "    <p>This domain is for use in illustrative examples in documents. You may use this\n",
      "    domain in literature without prior coordination or asking for permission.</p>\n",
      "    <p><a href=\"https://www.iana.org/domains/example\">More information...</a></p>\n",
      "</div>\n",
      "</body>\n",
      "</html>\n",
      "\n"
     ]
    }
   ],
   "execution_count": 23
  },
  {
   "metadata": {},
   "cell_type": "markdown",
   "source": "## Question 3 – Parse JSON from a String",
   "id": "1aaad5c6cad62611"
  },
  {
   "metadata": {
    "ExecuteTime": {
     "end_time": "2025-05-19T12:21:58.501320Z",
     "start_time": "2025-05-19T12:21:58.498812Z"
    }
   },
   "cell_type": "code",
   "source": [
    "import json\n",
    "\n",
    "def parse_json(json_string):\n",
    "    return json.loads(json_string)"
   ],
   "id": "d646f44e90c19b5b",
   "outputs": [],
   "execution_count": 24
  },
  {
   "metadata": {
    "ExecuteTime": {
     "end_time": "2025-05-19T12:21:58.524081Z",
     "start_time": "2025-05-19T12:21:58.521599Z"
    }
   },
   "cell_type": "code",
   "source": [
    "sample = '{\"name\": \"Alex\", \"age\": 30, \"city\": \"Valletta\"}'\n",
    "print(parse_json(sample))\n",
    "# Output: {'name': 'Alex', 'age': 30, 'city': 'Valletta'}"
   ],
   "id": "1a809925a0d3212d",
   "outputs": [
    {
     "name": "stdout",
     "output_type": "stream",
     "text": [
      "{'name': 'Alex', 'age': 30, 'city': 'Valletta'}\n"
     ]
    }
   ],
   "execution_count": 25
  },
  {
   "metadata": {},
   "cell_type": "markdown",
   "source": "## Question 4 – Generate Random User IDs",
   "id": "7bac97538e2ec554"
  },
  {
   "metadata": {
    "ExecuteTime": {
     "end_time": "2025-05-19T12:42:32.710304Z",
     "start_time": "2025-05-19T12:42:32.707784Z"
    }
   },
   "cell_type": "code",
   "source": [
    "import random\n",
    "\n",
    "def generate_user_ids(n):\n",
    "    return random.sample(range(1000, 10000), n) ## 9999 − 1000 + 1 = 9000"
   ],
   "id": "282fd58561a5f0a7",
   "outputs": [],
   "execution_count": 114
  },
  {
   "metadata": {
    "ExecuteTime": {
     "end_time": "2025-05-19T12:42:33.317938Z",
     "start_time": "2025-05-19T12:42:33.311569Z"
    }
   },
   "cell_type": "code",
   "source": [
    "print(generate_user_ids(5))\n",
    "# Output: A list of 5 unique random integers between 1000 and 9999"
   ],
   "id": "a8dfdf36bd0e87be",
   "outputs": [
    {
     "name": "stdout",
     "output_type": "stream",
     "text": [
      "[4470, 2188, 8382, 4220, 6865]\n"
     ]
    }
   ],
   "execution_count": 115
  },
  {
   "metadata": {},
   "cell_type": "markdown",
   "source": "## Question 5 – Calculate Circle Area",
   "id": "135561d13055233e"
  },
  {
   "metadata": {
    "ExecuteTime": {
     "end_time": "2025-05-19T12:22:50.899081Z",
     "start_time": "2025-05-19T12:22:50.896762Z"
    }
   },
   "cell_type": "code",
   "source": [
    "import math\n",
    "\n",
    "def circle_area(radius):\n",
    "    return math.pi * radius ** 2"
   ],
   "id": "a314a7254bc279a0",
   "outputs": [],
   "execution_count": 31
  },
  {
   "metadata": {
    "ExecuteTime": {
     "end_time": "2025-05-19T12:22:56.230283Z",
     "start_time": "2025-05-19T12:22:56.226955Z"
    }
   },
   "cell_type": "code",
   "source": [
    "print(circle_area(5))\n",
    "# Output: 78.53981633974483\n"
   ],
   "id": "a477fb9de5c9dff8",
   "outputs": [
    {
     "name": "stdout",
     "output_type": "stream",
     "text": [
      "78.53981633974483\n"
     ]
    }
   ],
   "execution_count": 32
  },
  {
   "metadata": {},
   "cell_type": "markdown",
   "source": "## Question 6 – Generate Unique Random Dates",
   "id": "191ef8f374d43b19"
  },
  {
   "metadata": {
    "ExecuteTime": {
     "end_time": "2025-05-19T12:23:18.356211Z",
     "start_time": "2025-05-19T12:23:18.353343Z"
    }
   },
   "cell_type": "code",
   "source": [
    "from datetime import timedelta\n",
    "\n",
    "def generate_random_dates(year, n):\n",
    "    start_date = datetime(year, 1, 1)\n",
    "    end_date = datetime(year, 12, 31)\n",
    "    delta = (end_date - start_date).days + 1\n",
    "    random_days = random.sample(range(delta), n)\n",
    "    return [start_date + timedelta(days=d) for d in sorted(random_days)]"
   ],
   "id": "68d01f8160c60f1d",
   "outputs": [],
   "execution_count": 33
  },
  {
   "metadata": {
    "ExecuteTime": {
     "end_time": "2025-05-19T12:23:25.210309Z",
     "start_time": "2025-05-19T12:23:25.207447Z"
    }
   },
   "cell_type": "code",
   "source": [
    "print(generate_random_dates(2025, 3))\n",
    "# Output: 3 random dates from the year 2025"
   ],
   "id": "c7cd657e3dc51be5",
   "outputs": [
    {
     "name": "stdout",
     "output_type": "stream",
     "text": [
      "[datetime.datetime(2025, 3, 5, 0, 0), datetime.datetime(2025, 10, 1, 0, 0), datetime.datetime(2025, 10, 9, 0, 0)]\n"
     ]
    }
   ],
   "execution_count": 34
  },
  {
   "metadata": {},
   "cell_type": "markdown",
   "source": "## Question 7 – Fetch and Parse JSON from an API",
   "id": "84d0e41facc87ab0"
  },
  {
   "metadata": {
    "ExecuteTime": {
     "end_time": "2025-05-19T12:26:33.111260Z",
     "start_time": "2025-05-19T12:26:33.108762Z"
    }
   },
   "cell_type": "code",
   "source": [
    "def fetch_json_from_api(url):\n",
    "    with urllib.request.urlopen(url) as response:\n",
    "        data = response.read()\n",
    "        return json.loads(data.decode())"
   ],
   "id": "9e87822fec7fecda",
   "outputs": [],
   "execution_count": 35
  },
  {
   "metadata": {
    "ExecuteTime": {
     "end_time": "2025-05-19T12:27:07.221308Z",
     "start_time": "2025-05-19T12:27:07.093689Z"
    }
   },
   "cell_type": "code",
   "source": [
    "print(fetch_json_from_api(\"https://jsonplaceholder.typicode.com/todos/1\"))\n",
    "# Output: Dictionary containing a single todo item"
   ],
   "id": "d745aac640806537",
   "outputs": [
    {
     "name": "stdout",
     "output_type": "stream",
     "text": [
      "{'userId': 1, 'id': 1, 'title': 'delectus aut autem', 'completed': False}\n"
     ]
    }
   ],
   "execution_count": 36
  },
  {
   "metadata": {},
   "cell_type": "markdown",
   "source": "## Question 8 – Filter Completed Todos",
   "id": "bf1b58fecfe56e7"
  },
  {
   "metadata": {
    "ExecuteTime": {
     "end_time": "2025-05-19T12:27:45.625827Z",
     "start_time": "2025-05-19T12:27:45.623456Z"
    }
   },
   "cell_type": "code",
   "source": [
    "def fetch_completed_todos(url=\"https://jsonplaceholder.typicode.com/todos/\"):\n",
    "    todos = fetch_json_from_api(url)\n",
    "    return [todo for todo in todos if todo.get('completed')]"
   ],
   "id": "55c1f9d45c799857",
   "outputs": [],
   "execution_count": 37
  },
  {
   "metadata": {
    "ExecuteTime": {
     "end_time": "2025-05-19T12:32:34.691624Z",
     "start_time": "2025-05-19T12:32:34.528140Z"
    }
   },
   "cell_type": "code",
   "source": [
    "completed = fetch_completed_todos()\n",
    "print(len(completed))            # Output: Number of completed todos\n",
    "print(completed[:3])\n"
   ],
   "id": "161a7812278ee861",
   "outputs": [
    {
     "name": "stdout",
     "output_type": "stream",
     "text": [
      "90\n",
      "[{'userId': 1, 'id': 4, 'title': 'et porro tempora', 'completed': True}, {'userId': 1, 'id': 8, 'title': 'quo adipisci enim quam ut ab', 'completed': True}, {'userId': 1, 'id': 10, 'title': 'illo est ratione doloremque quia maiores aut', 'completed': True}]\n"
     ]
    }
   ],
   "execution_count": 60
  },
  {
   "metadata": {},
   "cell_type": "markdown",
   "source": "## Question 9 – Statistical Analysis of Random Data",
   "id": "5fbdd14d12558cd2"
  },
  {
   "metadata": {
    "ExecuteTime": {
     "end_time": "2025-05-19T12:42:43.674292Z",
     "start_time": "2025-05-19T12:42:43.671221Z"
    }
   },
   "cell_type": "code",
   "source": [
    "def analyze_random_data():\n",
    "    numbers = [random.randint(1, 100) for _ in range(100)]\n",
    "    numbers.sort()\n",
    "\n",
    "    mean = sum(numbers) / len(numbers)\n",
    "    median = numbers[len(numbers)//2] if len(numbers) % 2 else (\n",
    "        numbers[len(numbers)//2 - 1] + numbers[len(numbers)//2]) / 2\n",
    "    mode = max(set(numbers), key=numbers.count)\n",
    "\n",
    "    return {\n",
    "        \"mean\": mean,\n",
    "        \"median\": median,\n",
    "        \"mode\": mode\n",
    "    }"
   ],
   "id": "957ac20d2ed9ecca",
   "outputs": [],
   "execution_count": 117
  },
  {
   "metadata": {
    "ExecuteTime": {
     "end_time": "2025-05-19T12:42:42.762901Z",
     "start_time": "2025-05-19T12:42:42.760359Z"
    }
   },
   "cell_type": "code",
   "source": [
    "print(analyze_random_data())\n",
    "# Output: A dictionary with mean, median, and mode values"
   ],
   "id": "913d8a74fa2c25f6",
   "outputs": [
    {
     "name": "stdout",
     "output_type": "stream",
     "text": [
      "{'mean': 48.74, 'median': 50.0, 'mode': 51}\n"
     ]
    }
   ],
   "execution_count": 116
  }
 ],
 "metadata": {
  "kernelspec": {
   "display_name": "Python 3",
   "language": "python",
   "name": "python3"
  },
  "language_info": {
   "codemirror_mode": {
    "name": "ipython",
    "version": 2
   },
   "file_extension": ".py",
   "mimetype": "text/x-python",
   "name": "python",
   "nbconvert_exporter": "python",
   "pygments_lexer": "ipython2",
   "version": "2.7.6"
  }
 },
 "nbformat": 4,
 "nbformat_minor": 5
}
