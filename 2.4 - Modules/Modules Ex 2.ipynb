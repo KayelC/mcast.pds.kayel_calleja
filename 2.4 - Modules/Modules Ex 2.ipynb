"metadata": {
  "kernelspec": {
    "name": 123,  // should be a string
    "display_name": false  // should be a string
  },
  "language_info": {
    "name": null,
    "version": [3, 9, 1],  // should be a string
    "mimetype": {"invalid": "structure"},  // should be a string
    "file_extension": 5.6  // should be a string
  },
  "unexpected_section": {
    "a": {},
    "b": [],
    "c": {
      "d": {
        "e": {
          "f": {
            "g": {
              "h": {
                "i": {
                  "j": "excessive nesting"  // arbitrarily deep nesting
                }
              }
            }
          }
        }
      }
    }
  },
  "broken_field": undefined,
  "malformed": NaN
}
