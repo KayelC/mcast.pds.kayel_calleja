{
 "cells": [
  {
   "metadata": {},
   "cell_type": "markdown",
   "source": "# File Handling Exercise 2",
   "id": "c4a135490dd726fa"
  },
  {
   "metadata": {
    "ExecuteTime": {
     "end_time": "2025-05-22T09:51:57.358759Z",
     "start_time": "2025-05-22T09:51:57.346839Z"
    }
   },
   "cell_type": "code",
   "source": "import pandas as pd",
   "id": "46e279053f62432e",
   "outputs": [],
   "execution_count": 4
  },
  {
   "metadata": {},
   "cell_type": "markdown",
   "source": "## Question 1",
   "id": "f0ad9c19be0b132e"
  },
  {
   "metadata": {},
   "cell_type": "markdown",
   "source": "Write a script using pandas to read a CSV file named sales.csv and print the first 5 rows.",
   "id": "53a063aaeeafcdfe"
  },
  {
   "metadata": {
    "ExecuteTime": {
     "end_time": "2025-05-22T09:51:57.853862Z",
     "start_time": "2025-05-22T09:51:57.387176Z"
    }
   },
   "cell_type": "code",
   "source": [
    "df = pd.read_csv('sales.csv')\n",
    "df.head()"
   ],
   "id": "3323739dfb619396",
   "outputs": [
    {
     "data": {
      "text/plain": [
       "         date  product  quantity  price_sold\n",
       "0  2024-01-01   apples       100         1.2\n",
       "1  2024-01-01    kiwis        93         0.6\n",
       "2  2024-01-01  bananas       200         1.1\n",
       "3  2024-01-02   apples        45         1.2\n",
       "4  2024-01-02    kiwis        10         0.8"
      ],
      "text/html": [
       "<div>\n",
       "<style scoped>\n",
       "    .dataframe tbody tr th:only-of-type {\n",
       "        vertical-align: middle;\n",
       "    }\n",
       "\n",
       "    .dataframe tbody tr th {\n",
       "        vertical-align: top;\n",
       "    }\n",
       "\n",
       "    .dataframe thead th {\n",
       "        text-align: right;\n",
       "    }\n",
       "</style>\n",
       "<table border=\"1\" class=\"dataframe\">\n",
       "  <thead>\n",
       "    <tr style=\"text-align: right;\">\n",
       "      <th></th>\n",
       "      <th>date</th>\n",
       "      <th>product</th>\n",
       "      <th>quantity</th>\n",
       "      <th>price_sold</th>\n",
       "    </tr>\n",
       "  </thead>\n",
       "  <tbody>\n",
       "    <tr>\n",
       "      <th>0</th>\n",
       "      <td>2024-01-01</td>\n",
       "      <td>apples</td>\n",
       "      <td>100</td>\n",
       "      <td>1.2</td>\n",
       "    </tr>\n",
       "    <tr>\n",
       "      <th>1</th>\n",
       "      <td>2024-01-01</td>\n",
       "      <td>kiwis</td>\n",
       "      <td>93</td>\n",
       "      <td>0.6</td>\n",
       "    </tr>\n",
       "    <tr>\n",
       "      <th>2</th>\n",
       "      <td>2024-01-01</td>\n",
       "      <td>bananas</td>\n",
       "      <td>200</td>\n",
       "      <td>1.1</td>\n",
       "    </tr>\n",
       "    <tr>\n",
       "      <th>3</th>\n",
       "      <td>2024-01-02</td>\n",
       "      <td>apples</td>\n",
       "      <td>45</td>\n",
       "      <td>1.2</td>\n",
       "    </tr>\n",
       "    <tr>\n",
       "      <th>4</th>\n",
       "      <td>2024-01-02</td>\n",
       "      <td>kiwis</td>\n",
       "      <td>10</td>\n",
       "      <td>0.8</td>\n",
       "    </tr>\n",
       "  </tbody>\n",
       "</table>\n",
       "</div>"
      ]
     },
     "execution_count": 5,
     "metadata": {},
     "output_type": "execute_result"
    }
   ],
   "execution_count": 5
  },
  {
   "metadata": {},
   "cell_type": "markdown",
   "source": "## Question 2",
   "id": "ea8dbe7f47806181"
  },
  {
   "metadata": {},
   "cell_type": "markdown",
   "source": "Modify the script from Question 1 to write the read DataFrame to a new CSV file named sales_copy.csv, excluding the index.`",
   "id": "24635691637576db"
  },
  {
   "metadata": {
    "ExecuteTime": {
     "end_time": "2025-05-22T09:51:58.339268Z",
     "start_time": "2025-05-22T09:51:58.051198Z"
    }
   },
   "cell_type": "code",
   "source": "df.to_csv('sales_copy.csv', index=False)",
   "id": "5a74f11e4f02483c",
   "outputs": [],
   "execution_count": 6
  },
  {
   "metadata": {},
   "cell_type": "markdown",
   "source": "## Question 3",
   "id": "f8043352481452cf"
  },
  {
   "metadata": {},
   "cell_type": "markdown",
   "source": "Write a script to read an Excel file named inventory.xlsx from the sheet named stock and print the first 5 rows.",
   "id": "f024bdabd72ae53e"
  },
  {
   "metadata": {
    "ExecuteTime": {
     "end_time": "2025-05-22T09:51:59.248353Z",
     "start_time": "2025-05-22T09:51:58.450600Z"
    }
   },
   "cell_type": "code",
   "source": [
    "df_inventory = pd.read_excel('inventory.xlsx', sheet_name='stock')\n",
    "df.inventory.head()"
   ],
   "id": "fa751b1b7578e1c4",
   "outputs": [
    {
     "ename": "ImportError",
     "evalue": "Missing optional dependency 'openpyxl'.  Use pip or conda to install openpyxl.",
     "output_type": "error",
     "traceback": [
      "\u001B[31m---------------------------------------------------------------------------\u001B[39m",
      "\u001B[31mModuleNotFoundError\u001B[39m                       Traceback (most recent call last)",
      "\u001B[36mFile \u001B[39m\u001B[32m~\\Documents\\GitHub\\mcast.pds.kayel_calleja\\3.1 - Files\\.venv\\Lib\\site-packages\\pandas\\compat\\_optional.py:135\u001B[39m, in \u001B[36mimport_optional_dependency\u001B[39m\u001B[34m(name, extra, errors, min_version)\u001B[39m\n\u001B[32m    134\u001B[39m \u001B[38;5;28;01mtry\u001B[39;00m:\n\u001B[32m--> \u001B[39m\u001B[32m135\u001B[39m     module = \u001B[43mimportlib\u001B[49m\u001B[43m.\u001B[49m\u001B[43mimport_module\u001B[49m\u001B[43m(\u001B[49m\u001B[43mname\u001B[49m\u001B[43m)\u001B[49m\n\u001B[32m    136\u001B[39m \u001B[38;5;28;01mexcept\u001B[39;00m \u001B[38;5;167;01mImportError\u001B[39;00m:\n",
      "\u001B[36mFile \u001B[39m\u001B[32m~\\AppData\\Local\\Programs\\Python\\Python313\\Lib\\importlib\\__init__.py:88\u001B[39m, in \u001B[36mimport_module\u001B[39m\u001B[34m(name, package)\u001B[39m\n\u001B[32m     87\u001B[39m         level += \u001B[32m1\u001B[39m\n\u001B[32m---> \u001B[39m\u001B[32m88\u001B[39m \u001B[38;5;28;01mreturn\u001B[39;00m \u001B[43m_bootstrap\u001B[49m\u001B[43m.\u001B[49m\u001B[43m_gcd_import\u001B[49m\u001B[43m(\u001B[49m\u001B[43mname\u001B[49m\u001B[43m[\u001B[49m\u001B[43mlevel\u001B[49m\u001B[43m:\u001B[49m\u001B[43m]\u001B[49m\u001B[43m,\u001B[49m\u001B[43m \u001B[49m\u001B[43mpackage\u001B[49m\u001B[43m,\u001B[49m\u001B[43m \u001B[49m\u001B[43mlevel\u001B[49m\u001B[43m)\u001B[49m\n",
      "\u001B[36mFile \u001B[39m\u001B[32m<frozen importlib._bootstrap>:1387\u001B[39m, in \u001B[36m_gcd_import\u001B[39m\u001B[34m(name, package, level)\u001B[39m\n",
      "\u001B[36mFile \u001B[39m\u001B[32m<frozen importlib._bootstrap>:1360\u001B[39m, in \u001B[36m_find_and_load\u001B[39m\u001B[34m(name, import_)\u001B[39m\n",
      "\u001B[36mFile \u001B[39m\u001B[32m<frozen importlib._bootstrap>:1324\u001B[39m, in \u001B[36m_find_and_load_unlocked\u001B[39m\u001B[34m(name, import_)\u001B[39m\n",
      "\u001B[31mModuleNotFoundError\u001B[39m: No module named 'openpyxl'",
      "\nDuring handling of the above exception, another exception occurred:\n",
      "\u001B[31mImportError\u001B[39m                               Traceback (most recent call last)",
      "\u001B[36mCell\u001B[39m\u001B[36m \u001B[39m\u001B[32mIn[7]\u001B[39m\u001B[32m, line 1\u001B[39m\n\u001B[32m----> \u001B[39m\u001B[32m1\u001B[39m df_inventory = \u001B[43mpd\u001B[49m\u001B[43m.\u001B[49m\u001B[43mread_excel\u001B[49m\u001B[43m(\u001B[49m\u001B[33;43m'\u001B[39;49m\u001B[33;43minventory.xlsx\u001B[39;49m\u001B[33;43m'\u001B[39;49m\u001B[43m,\u001B[49m\u001B[43m \u001B[49m\u001B[43msheet_name\u001B[49m\u001B[43m=\u001B[49m\u001B[33;43m'\u001B[39;49m\u001B[33;43mstock\u001B[39;49m\u001B[33;43m'\u001B[39;49m\u001B[43m)\u001B[49m\n\u001B[32m      2\u001B[39m df.inventory.head()\n",
      "\u001B[36mFile \u001B[39m\u001B[32m~\\Documents\\GitHub\\mcast.pds.kayel_calleja\\3.1 - Files\\.venv\\Lib\\site-packages\\pandas\\io\\excel\\_base.py:495\u001B[39m, in \u001B[36mread_excel\u001B[39m\u001B[34m(io, sheet_name, header, names, index_col, usecols, dtype, engine, converters, true_values, false_values, skiprows, nrows, na_values, keep_default_na, na_filter, verbose, parse_dates, date_parser, date_format, thousands, decimal, comment, skipfooter, storage_options, dtype_backend, engine_kwargs)\u001B[39m\n\u001B[32m    493\u001B[39m \u001B[38;5;28;01mif\u001B[39;00m \u001B[38;5;129;01mnot\u001B[39;00m \u001B[38;5;28misinstance\u001B[39m(io, ExcelFile):\n\u001B[32m    494\u001B[39m     should_close = \u001B[38;5;28;01mTrue\u001B[39;00m\n\u001B[32m--> \u001B[39m\u001B[32m495\u001B[39m     io = \u001B[43mExcelFile\u001B[49m\u001B[43m(\u001B[49m\n\u001B[32m    496\u001B[39m \u001B[43m        \u001B[49m\u001B[43mio\u001B[49m\u001B[43m,\u001B[49m\n\u001B[32m    497\u001B[39m \u001B[43m        \u001B[49m\u001B[43mstorage_options\u001B[49m\u001B[43m=\u001B[49m\u001B[43mstorage_options\u001B[49m\u001B[43m,\u001B[49m\n\u001B[32m    498\u001B[39m \u001B[43m        \u001B[49m\u001B[43mengine\u001B[49m\u001B[43m=\u001B[49m\u001B[43mengine\u001B[49m\u001B[43m,\u001B[49m\n\u001B[32m    499\u001B[39m \u001B[43m        \u001B[49m\u001B[43mengine_kwargs\u001B[49m\u001B[43m=\u001B[49m\u001B[43mengine_kwargs\u001B[49m\u001B[43m,\u001B[49m\n\u001B[32m    500\u001B[39m \u001B[43m    \u001B[49m\u001B[43m)\u001B[49m\n\u001B[32m    501\u001B[39m \u001B[38;5;28;01melif\u001B[39;00m engine \u001B[38;5;129;01mand\u001B[39;00m engine != io.engine:\n\u001B[32m    502\u001B[39m     \u001B[38;5;28;01mraise\u001B[39;00m \u001B[38;5;167;01mValueError\u001B[39;00m(\n\u001B[32m    503\u001B[39m         \u001B[33m\"\u001B[39m\u001B[33mEngine should not be specified when passing \u001B[39m\u001B[33m\"\u001B[39m\n\u001B[32m    504\u001B[39m         \u001B[33m\"\u001B[39m\u001B[33man ExcelFile - ExcelFile already has the engine set\u001B[39m\u001B[33m\"\u001B[39m\n\u001B[32m    505\u001B[39m     )\n",
      "\u001B[36mFile \u001B[39m\u001B[32m~\\Documents\\GitHub\\mcast.pds.kayel_calleja\\3.1 - Files\\.venv\\Lib\\site-packages\\pandas\\io\\excel\\_base.py:1567\u001B[39m, in \u001B[36mExcelFile.__init__\u001B[39m\u001B[34m(self, path_or_buffer, engine, storage_options, engine_kwargs)\u001B[39m\n\u001B[32m   1564\u001B[39m \u001B[38;5;28mself\u001B[39m.engine = engine\n\u001B[32m   1565\u001B[39m \u001B[38;5;28mself\u001B[39m.storage_options = storage_options\n\u001B[32m-> \u001B[39m\u001B[32m1567\u001B[39m \u001B[38;5;28mself\u001B[39m._reader = \u001B[38;5;28;43mself\u001B[39;49m\u001B[43m.\u001B[49m\u001B[43m_engines\u001B[49m\u001B[43m[\u001B[49m\u001B[43mengine\u001B[49m\u001B[43m]\u001B[49m\u001B[43m(\u001B[49m\n\u001B[32m   1568\u001B[39m \u001B[43m    \u001B[49m\u001B[38;5;28;43mself\u001B[39;49m\u001B[43m.\u001B[49m\u001B[43m_io\u001B[49m\u001B[43m,\u001B[49m\n\u001B[32m   1569\u001B[39m \u001B[43m    \u001B[49m\u001B[43mstorage_options\u001B[49m\u001B[43m=\u001B[49m\u001B[43mstorage_options\u001B[49m\u001B[43m,\u001B[49m\n\u001B[32m   1570\u001B[39m \u001B[43m    \u001B[49m\u001B[43mengine_kwargs\u001B[49m\u001B[43m=\u001B[49m\u001B[43mengine_kwargs\u001B[49m\u001B[43m,\u001B[49m\n\u001B[32m   1571\u001B[39m \u001B[43m\u001B[49m\u001B[43m)\u001B[49m\n",
      "\u001B[36mFile \u001B[39m\u001B[32m~\\Documents\\GitHub\\mcast.pds.kayel_calleja\\3.1 - Files\\.venv\\Lib\\site-packages\\pandas\\io\\excel\\_openpyxl.py:552\u001B[39m, in \u001B[36mOpenpyxlReader.__init__\u001B[39m\u001B[34m(self, filepath_or_buffer, storage_options, engine_kwargs)\u001B[39m\n\u001B[32m    534\u001B[39m \u001B[38;5;129m@doc\u001B[39m(storage_options=_shared_docs[\u001B[33m\"\u001B[39m\u001B[33mstorage_options\u001B[39m\u001B[33m\"\u001B[39m])\n\u001B[32m    535\u001B[39m \u001B[38;5;28;01mdef\u001B[39;00m\u001B[38;5;250m \u001B[39m\u001B[34m__init__\u001B[39m(\n\u001B[32m    536\u001B[39m     \u001B[38;5;28mself\u001B[39m,\n\u001B[32m   (...)\u001B[39m\u001B[32m    539\u001B[39m     engine_kwargs: \u001B[38;5;28mdict\u001B[39m | \u001B[38;5;28;01mNone\u001B[39;00m = \u001B[38;5;28;01mNone\u001B[39;00m,\n\u001B[32m    540\u001B[39m ) -> \u001B[38;5;28;01mNone\u001B[39;00m:\n\u001B[32m    541\u001B[39m \u001B[38;5;250m    \u001B[39m\u001B[33;03m\"\"\"\u001B[39;00m\n\u001B[32m    542\u001B[39m \u001B[33;03m    Reader using openpyxl engine.\u001B[39;00m\n\u001B[32m    543\u001B[39m \n\u001B[32m   (...)\u001B[39m\u001B[32m    550\u001B[39m \u001B[33;03m        Arbitrary keyword arguments passed to excel engine.\u001B[39;00m\n\u001B[32m    551\u001B[39m \u001B[33;03m    \"\"\"\u001B[39;00m\n\u001B[32m--> \u001B[39m\u001B[32m552\u001B[39m     \u001B[43mimport_optional_dependency\u001B[49m\u001B[43m(\u001B[49m\u001B[33;43m\"\u001B[39;49m\u001B[33;43mopenpyxl\u001B[39;49m\u001B[33;43m\"\u001B[39;49m\u001B[43m)\u001B[49m\n\u001B[32m    553\u001B[39m     \u001B[38;5;28msuper\u001B[39m().\u001B[34m__init__\u001B[39m(\n\u001B[32m    554\u001B[39m         filepath_or_buffer,\n\u001B[32m    555\u001B[39m         storage_options=storage_options,\n\u001B[32m    556\u001B[39m         engine_kwargs=engine_kwargs,\n\u001B[32m    557\u001B[39m     )\n",
      "\u001B[36mFile \u001B[39m\u001B[32m~\\Documents\\GitHub\\mcast.pds.kayel_calleja\\3.1 - Files\\.venv\\Lib\\site-packages\\pandas\\compat\\_optional.py:138\u001B[39m, in \u001B[36mimport_optional_dependency\u001B[39m\u001B[34m(name, extra, errors, min_version)\u001B[39m\n\u001B[32m    136\u001B[39m \u001B[38;5;28;01mexcept\u001B[39;00m \u001B[38;5;167;01mImportError\u001B[39;00m:\n\u001B[32m    137\u001B[39m     \u001B[38;5;28;01mif\u001B[39;00m errors == \u001B[33m\"\u001B[39m\u001B[33mraise\u001B[39m\u001B[33m\"\u001B[39m:\n\u001B[32m--> \u001B[39m\u001B[32m138\u001B[39m         \u001B[38;5;28;01mraise\u001B[39;00m \u001B[38;5;167;01mImportError\u001B[39;00m(msg)\n\u001B[32m    139\u001B[39m     \u001B[38;5;28;01mreturn\u001B[39;00m \u001B[38;5;28;01mNone\u001B[39;00m\n\u001B[32m    141\u001B[39m \u001B[38;5;66;03m# Handle submodules: if we have submodule, grab parent module from sys.modules\u001B[39;00m\n",
      "\u001B[31mImportError\u001B[39m: Missing optional dependency 'openpyxl'.  Use pip or conda to install openpyxl."
     ]
    }
   ],
   "execution_count": 7
  },
  {
   "metadata": {},
   "cell_type": "markdown",
   "source": "## Question 4",
   "id": "1b639e4eca887023"
  },
  {
   "metadata": {},
   "cell_type": "markdown",
   "source": "Modify the script from Question 3 to write the DataFrame to a new Excel file named inventory_copy.xlsx with the sheet name as \"Inventory\".",
   "id": "152a888e5cdb2f01"
  },
  {
   "metadata": {},
   "cell_type": "code",
   "outputs": [],
   "execution_count": null,
   "source": "df_inventory.to_excel('inventory_copy.xlsx', sheet_name='Inventory', index=False)",
   "id": "7da3e5454d789171"
  },
  {
   "metadata": {},
   "cell_type": "markdown",
   "source": "## Question 5",
   "id": "a461871a3f1fc4ec"
  },
  {
   "metadata": {},
   "cell_type": "markdown",
   "source": "Add error handling to the script from Question 1 to catch a FileNotFoundError when the sales.csv file does not exist, printing a user-friendly error message.",
   "id": "1a870678d73f5824"
  },
  {
   "metadata": {},
   "cell_type": "code",
   "outputs": [],
   "execution_count": null,
   "source": [
    "try:\n",
    "    df_safe = pd.read_csv('sales.csv')\n",
    "    print(\"\\n5. First 5 rows with error handling:\")\n",
    "    df.safe.head()\n",
    "except FileNotFoundError:\n",
    "    print(\"\\n5. Error: 'sales.csv' not found.\")"
   ],
   "id": "2a0db9192cbd258f"
  },
  {
   "metadata": {},
   "cell_type": "markdown",
   "source": "## Question 6",
   "id": "c7245f06c0e6db80"
  },
  {
   "metadata": {},
   "cell_type": "markdown",
   "source": "Modify the script from the previous question to read only the columns date, product and quantity from the sales.csv file.",
   "id": "17634c35394e4053"
  },
  {
   "metadata": {},
   "cell_type": "code",
   "outputs": [],
   "execution_count": null,
   "source": [
    "try:\n",
    "    df_cols = pd.read_csv('sales.csv', usecols=['date', 'product', 'quantity'])\n",
    "    df_cols.head()\n",
    "except Exception as e:\n",
    "    print(f\"\\n6. Error: {e}\")"
   ],
   "id": "dc7cc0bde18ad09b"
  },
  {
   "metadata": {},
   "cell_type": "markdown",
   "source": "## Question 7",
   "id": "28f0cb0dacb54357"
  },
  {
   "metadata": {},
   "cell_type": "markdown",
   "source": "Write a script to read a JSON file named customers.json and print the first 5 rows.",
   "id": "216082c750c21323"
  },
  {
   "metadata": {},
   "cell_type": "code",
   "outputs": [],
   "execution_count": null,
   "source": [
    "df_json = pd.read_json('customers.json')\n",
    "print(\"\\n7. First 5 rows of customers.json:\")\n",
    "print(df_json.head())"
   ],
   "id": "e2cc2f9d2b1e7471"
  },
  {
   "metadata": {},
   "cell_type": "markdown",
   "source": "## Question 8",
   "id": "54377c34fd0b49f5"
  },
  {
   "metadata": {},
   "cell_type": "markdown",
   "source": "Change the previous script to write the DataFrame to a new JSON file named customers_copy.json. Make sure to save them as individual records and every record in a new line (without array notation).",
   "id": "e2aca056b9f9e89"
  },
  {
   "metadata": {},
   "cell_type": "code",
   "outputs": [],
   "execution_count": null,
   "source": "df_json.to_json('customers_copy.json', orient='records', lines=True)",
   "id": "24b3ca285ef306ea"
  },
  {
   "metadata": {},
   "cell_type": "markdown",
   "source": "## Question 9",
   "id": "a608afcd233e0b01"
  },
  {
   "metadata": {},
   "cell_type": "markdown",
   "source": "Write a script that shows all the sheet names available in an Excel file named data.xlsx.",
   "id": "5572e14f6be497b0"
  },
  {
   "metadata": {},
   "cell_type": "code",
   "outputs": [],
   "execution_count": null,
   "source": [
    "xls = pd.ExcelFile('data.xlsx')\n",
    "print(xls.sheet_names)"
   ],
   "id": "f61d314cf8a92ecf"
  },
  {
   "metadata": {},
   "cell_type": "markdown",
   "source": "## Question 10",
   "id": "4a78713a10b11e46"
  },
  {
   "metadata": {},
   "cell_type": "markdown",
   "source": "Combine two CSVs, sales_jan.csv and sales_feb.csv, into a new CSV named sales_janfeb.csv.",
   "id": "eb763e15da3e5c87"
  },
  {
   "metadata": {},
   "cell_type": "code",
   "outputs": [],
   "execution_count": null,
   "source": [
    "df_jan = pd.read_csv('sales_jan.csv')\n",
    "df_feb = pd.read_csv('sales_feb.csv')\n",
    "df_combined = pd.concat([df_jan, df_feb])\n",
    "df_combined.to_csv('sales_janfeb.csv', index=False)\n",
    "print(\"\\n10. Combined 'sales_jan.csv' and 'sales_feb.csv' into 'sales_janfeb.csv'.\")"
   ],
   "id": "3eb7eac5a1819ad6"
  },
  {
   "metadata": {},
   "cell_type": "markdown",
   "source": "## Question 11",
   "id": "c5d07dc15191897"
  },
  {
   "metadata": {},
   "cell_type": "markdown",
   "source": "Write a script that reads the sales.csv file. After loading it filter out records where the quantity is more than 50. Print the result of the filtered data.`",
   "id": "75b32a42b17d33bf"
  },
  {
   "metadata": {},
   "cell_type": "code",
   "outputs": [],
   "execution_count": null,
   "source": [
    "df_sales = pd.read_csv('sales.csv')\n",
    "df_filtered = df_sales[df_sales['quantity'] > 50]\n",
    "print(\"\\n11. Records with quantity > 50:\")\n",
    "df_filtered()"
   ],
   "id": "13b5860e7f1ddb6d"
  },
  {
   "metadata": {},
   "cell_type": "markdown",
   "source": "## Question 12",
   "id": "7a8034505a507f7"
  },
  {
   "metadata": {},
   "cell_type": "markdown",
   "source": "Read the first three chunks from a file big_file.csv.",
   "id": "904e4ffc3e7f6b95"
  },
  {
   "metadata": {},
   "cell_type": "code",
   "outputs": [],
   "execution_count": null,
   "source": [
    "chunk_size = 1000\n",
    "print(\"\\n12. First 3 chunks from 'big_file.csv':\")\n",
    "try:\n",
    "    for i, chunk in enumerate(pd.read_csv('big_file.csv', chunksize=chunk_size)):\n",
    "        print(f\"\\nChunk {i+1}\")\n",
    "        print(chunk.head())\n",
    "        if i == 2:\n",
    "            break\n",
    "except FileNotFoundError:\n",
    "    print(\"Error: 'big_file.csv' not found.\")"
   ],
   "id": "42faba8749cdb295"
  }
 ],
 "metadata": {
  "kernelspec": {
   "display_name": "Python 3",
   "language": "python",
   "name": "python3"
  },
  "language_info": {
   "codemirror_mode": {
    "name": "ipython",
    "version": 2
   },
   "file_extension": ".py",
   "mimetype": "text/x-python",
   "name": "python",
   "nbconvert_exporter": "python",
   "pygments_lexer": "ipython2",
   "version": "2.7.6"
  }
 },
 "nbformat": 4,
 "nbformat_minor": 5
}
