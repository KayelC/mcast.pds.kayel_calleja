{
 "cells": [
  {
   "metadata": {},
   "cell_type": "markdown",
   "source": "# File Handling Exercise 1",
   "id": "aae666e6b261791a"
  },
  {
   "metadata": {
    "ExecuteTime": {
     "end_time": "2025-05-22T09:32:24.645655Z",
     "start_time": "2025-05-22T09:32:24.643322Z"
    }
   },
   "cell_type": "code",
   "source": "import random",
   "id": "909bbc0ba2d5350",
   "outputs": [],
   "execution_count": 10
  },
  {
   "metadata": {},
   "cell_type": "markdown",
   "source": "## Question 1",
   "id": "beca3b6dc7148b86"
  },
  {
   "metadata": {},
   "cell_type": "markdown",
   "source": [
    "Create a function that accepts a filename and number_of_lines. The function should do the following:\n",
    "\n",
    "Generate a random number from 1 to 1000 or a random word (from a pre-determined list) for number_of_lines times.\n",
    "To decided if it's a number or words use random and use a 50:50 ratio.\n",
    "You can set a pre-determined number of words; for instance a list with 5 fruits.\n",
    "After the number of items have been generated, store them in a file using the given filename making sure that every entry is on a new line."
   ],
   "id": "a7b0093eecae78d2"
  },
  {
   "metadata": {
    "ExecuteTime": {
     "end_time": "2025-05-22T09:32:24.660569Z",
     "start_time": "2025-05-22T09:32:24.657747Z"
    }
   },
   "cell_type": "code",
   "source": [
    "def generate_random_file(filename, number_of_lines):\n",
    "    words = ['apple', 'banana', 'cherry', 'orange', 'grape']\n",
    "    with open(filename, 'w') as file:\n",
    "        for _ in range(number_of_lines):\n",
    "            if random.choice([True, False]):  # 50:50 choice\n",
    "                file.write(f\"{random.randint(1, 1000)}\\n\")\n",
    "            else:\n",
    "                file.write(f\"{random.choice(words)}\\n\")"
   ],
   "id": "9e4f1972fce0c621",
   "outputs": [],
   "execution_count": 11
  },
  {
   "metadata": {},
   "cell_type": "markdown",
   "source": "## Question 2",
   "id": "4f33b74224acdec1"
  },
  {
   "metadata": {},
   "cell_type": "markdown",
   "source": "Use the previous function to generate a new file file_1.txt with 25 lines.",
   "id": "5feedc985e8d50ac"
  },
  {
   "metadata": {
    "ExecuteTime": {
     "end_time": "2025-05-22T09:32:24.683852Z",
     "start_time": "2025-05-22T09:32:24.681270Z"
    }
   },
   "cell_type": "code",
   "source": "generate_random_file(\"file_1.txt\", 25)",
   "id": "4545c4ae0ac40c00",
   "outputs": [],
   "execution_count": 12
  },
  {
   "metadata": {},
   "cell_type": "markdown",
   "source": "## Question 3",
   "id": "8512759e77a022f3"
  },
  {
   "metadata": {},
   "cell_type": "markdown",
   "source": "Write a function that reads the content of a file (parameter) and prints every line to the console.",
   "id": "e1baae5c2bace451"
  },
  {
   "metadata": {
    "ExecuteTime": {
     "end_time": "2025-05-22T09:32:24.695682Z",
     "start_time": "2025-05-22T09:32:24.692571Z"
    }
   },
   "cell_type": "code",
   "source": [
    "def read_and_print_file(filename):\n",
    "    with open(filename, 'r') as file:\n",
    "        for line in file:\n",
    "            print(line.strip())"
   ],
   "id": "737ad735da734b72",
   "outputs": [],
   "execution_count": 13
  },
  {
   "metadata": {},
   "cell_type": "markdown",
   "source": "## Question 4",
   "id": "34a83d047769f49f"
  },
  {
   "metadata": {},
   "cell_type": "markdown",
   "source": "Write a function that takes a filename as input and returns the number of lines in the file.",
   "id": "5481cd671e1a3938"
  },
  {
   "metadata": {
    "ExecuteTime": {
     "end_time": "2025-05-22T09:32:24.711605Z",
     "start_time": "2025-05-22T09:32:24.709292Z"
    }
   },
   "cell_type": "code",
   "source": [
    "def count_lines_in_file(filename):\n",
    "    with open(filename, 'r') as file:\n",
    "        return sum(1 for _ in file)"
   ],
   "id": "ef786e2ea4aa6c4e",
   "outputs": [],
   "execution_count": 14
  },
  {
   "metadata": {},
   "cell_type": "markdown",
   "source": "## Question 5",
   "id": "79c70a845c590635"
  },
  {
   "metadata": {},
   "cell_type": "markdown",
   "source": "Write a function that copies the content of a source file to a new destination file both must be passed as parameters.",
   "id": "7fd41127f9bdfd40"
  },
  {
   "metadata": {
    "ExecuteTime": {
     "end_time": "2025-05-22T09:32:24.722952Z",
     "start_time": "2025-05-22T09:32:24.720250Z"
    }
   },
   "cell_type": "code",
   "source": [
    "def copy_file(source, destination):\n",
    "    with open(source, 'r') as src, open(destination, 'w') as dst:\n",
    "        for line in src:\n",
    "            dst.write(line)"
   ],
   "id": "b09642d687169433",
   "outputs": [],
   "execution_count": 15
  },
  {
   "metadata": {},
   "cell_type": "markdown",
   "source": "## Question 6",
   "id": "5c8ddc3ec6939fa"
  },
  {
   "metadata": {},
   "cell_type": "markdown",
   "source": "Assuming you have a file a combination of numbers and/or strings per line. Write a function that calculates the sum of the number values only.",
   "id": "3513693752bf91b0"
  },
  {
   "metadata": {
    "ExecuteTime": {
     "end_time": "2025-05-22T09:32:24.742043Z",
     "start_time": "2025-05-22T09:32:24.739193Z"
    }
   },
   "cell_type": "code",
   "source": [
    "def sum_numeric_lines(filename):\n",
    "    total = 0\n",
    "    with open(filename, 'r') as file:\n",
    "        for line in file:\n",
    "            line = line.strip()\n",
    "            if line.isdigit():\n",
    "                total += int(line)\n",
    "    return total"
   ],
   "id": "60bac5b44bb655ca",
   "outputs": [],
   "execution_count": 16
  },
  {
   "metadata": {},
   "cell_type": "markdown",
   "source": "## Question 7",
   "id": "4a5656704cc86164"
  },
  {
   "metadata": {},
   "cell_type": "markdown",
   "source": "Write a function that takes a filename and prints a dashboard of information: number of lines, number of words, number of characters.",
   "id": "7800c6c9965824e7"
  },
  {
   "metadata": {
    "ExecuteTime": {
     "end_time": "2025-05-22T09:32:24.752926Z",
     "start_time": "2025-05-22T09:32:24.750349Z"
    }
   },
   "cell_type": "code",
   "source": [
    "def file_dashboard(filename):\n",
    "    lines = 0\n",
    "    words = 0\n",
    "    characters = 0\n",
    "    with open(filename, 'r') as file:\n",
    "        for line in file:\n",
    "            lines += 1\n",
    "            words += len(line.split())\n",
    "            characters += len(line)\n",
    "    print(f\"Dashboard for '{filename}':\")\n",
    "    print(f\"  Lines     : {lines}\")\n",
    "    print(f\"  Words     : {words}\")\n",
    "    print(f\"  Characters: {characters}\")"
   ],
   "id": "c0c0abe5eaeb041e",
   "outputs": [],
   "execution_count": 17
  },
  {
   "metadata": {},
   "cell_type": "markdown",
   "source": "## Question 8",
   "id": "33d596b7c7b4f1b3"
  },
  {
   "metadata": {},
   "cell_type": "markdown",
   "source": [
    "Write a function that takes a filename (for this example pass ibm_log.txt). The function must return a dictionary with every log file category, and the number of times it appeared.\n",
    "\n",
    "Every line in the log file is as follows: 03/22 08:51:01 INFO   :.main: Using log level 511\n",
    "We can consider the label to be INFO in this case.\n",
    "Make sure that keys are cleaned (remove :) before adding them to dictionary.\n",
    "Finally, return a dictionary with all the keys and the number of times they appear."
   ],
   "id": "9a56dd2f1439caa6"
  },
  {
   "metadata": {
    "ExecuteTime": {
     "end_time": "2025-05-22T09:32:24.772658Z",
     "start_time": "2025-05-22T09:32:24.769801Z"
    }
   },
   "cell_type": "code",
   "source": [
    "def log_file_summary(filename):\n",
    "    summary = {}\n",
    "    with open(filename, 'r') as file:\n",
    "        for line in file:\n",
    "            parts = line.strip().split()\n",
    "            if len(parts) >= 3:\n",
    "                label = parts[2].replace(':', '')\n",
    "                summary[label] = summary.get(label, 0) + 1\n",
    "    return summary"
   ],
   "id": "52e5de75c91ef9ed",
   "outputs": [],
   "execution_count": 18
  }
 ],
 "metadata": {
  "kernelspec": {
   "display_name": "Python 3",
   "language": "python",
   "name": "python3"
  },
  "language_info": {
   "codemirror_mode": {
    "name": "ipython",
    "version": 2
   },
   "file_extension": ".py",
   "mimetype": "text/x-python",
   "name": "python",
   "nbconvert_exporter": "python",
   "pygments_lexer": "ipython2",
   "version": "2.7.6"
  }
 },
 "nbformat": 4,
 "nbformat_minor": 5
}
